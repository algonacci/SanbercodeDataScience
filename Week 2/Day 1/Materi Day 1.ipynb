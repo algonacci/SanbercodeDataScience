{
 "cells": [
  {
   "cell_type": "markdown",
   "id": "37fea3a2",
   "metadata": {},
   "source": [
    "## Numpy Attributes"
   ]
  },
  {
   "cell_type": "code",
   "execution_count": 1,
   "id": "0be832e6",
   "metadata": {},
   "outputs": [
    {
     "name": "stdout",
     "output_type": "stream",
     "text": [
      "[[1 2 3 4 5]\n",
      " [6 7 8 9 0]]\n"
     ]
    }
   ],
   "source": [
    "import numpy as np\n",
    "\n",
    "my_numpy = np.array([\n",
    "                    [1,2,3,4,5],\n",
    "                    [6,7,8,9,0]\n",
    "                    ])\n",
    "print(my_numpy)"
   ]
  },
  {
   "cell_type": "code",
   "execution_count": 2,
   "id": "76b43377",
   "metadata": {},
   "outputs": [
    {
     "data": {
      "text/plain": [
       "2"
      ]
     },
     "execution_count": 2,
     "metadata": {},
     "output_type": "execute_result"
    }
   ],
   "source": [
    "my_numpy.ndim"
   ]
  },
  {
   "cell_type": "code",
   "execution_count": 3,
   "id": "985013cc",
   "metadata": {},
   "outputs": [
    {
     "data": {
      "text/plain": [
       "(2, 5)"
      ]
     },
     "execution_count": 3,
     "metadata": {},
     "output_type": "execute_result"
    }
   ],
   "source": [
    "my_numpy.shape"
   ]
  },
  {
   "cell_type": "code",
   "execution_count": 4,
   "id": "4c984233",
   "metadata": {},
   "outputs": [
    {
     "data": {
      "text/plain": [
       "dtype('int32')"
      ]
     },
     "execution_count": 4,
     "metadata": {},
     "output_type": "execute_result"
    }
   ],
   "source": [
    "my_numpy.dtype"
   ]
  },
  {
   "cell_type": "code",
   "execution_count": 5,
   "id": "7b9bbd58",
   "metadata": {},
   "outputs": [
    {
     "data": {
      "text/plain": [
       "4"
      ]
     },
     "execution_count": 5,
     "metadata": {},
     "output_type": "execute_result"
    }
   ],
   "source": [
    "my_numpy.itemsize"
   ]
  },
  {
   "cell_type": "code",
   "execution_count": 6,
   "id": "d3ce0c44",
   "metadata": {},
   "outputs": [
    {
     "data": {
      "text/plain": [
       "40"
      ]
     },
     "execution_count": 6,
     "metadata": {},
     "output_type": "execute_result"
    }
   ],
   "source": [
    "my_numpy.nbytes"
   ]
  },
  {
   "cell_type": "markdown",
   "id": "befa731b",
   "metadata": {},
   "source": [
    "## Indexing Arrays"
   ]
  },
  {
   "cell_type": "code",
   "execution_count": 7,
   "id": "3876e704",
   "metadata": {},
   "outputs": [
    {
     "data": {
      "text/plain": [
       "array([8, 9, 0])"
      ]
     },
     "execution_count": 7,
     "metadata": {},
     "output_type": "execute_result"
    }
   ],
   "source": [
    "my_numpy[1][2:]"
   ]
  },
  {
   "cell_type": "markdown",
   "id": "e2fcbca3",
   "metadata": {},
   "source": [
    "## Slicing Arrays"
   ]
  },
  {
   "cell_type": "code",
   "execution_count": 9,
   "id": "9891168b",
   "metadata": {},
   "outputs": [
    {
     "name": "stdout",
     "output_type": "stream",
     "text": [
      "[0 1 2 3 4 5 6 7 8 9]\n"
     ]
    },
    {
     "data": {
      "text/plain": [
       "array([0, 2, 4])"
      ]
     },
     "execution_count": 9,
     "metadata": {},
     "output_type": "execute_result"
    }
   ],
   "source": [
    "nmp = np.array(range(10))\n",
    "print(nmp)\n",
    "nmp[0:6:2]"
   ]
  },
  {
   "cell_type": "code",
   "execution_count": 10,
   "id": "e89bf919",
   "metadata": {},
   "outputs": [
    {
     "data": {
      "text/plain": [
       "array([[8, 9, 0]])"
      ]
     },
     "execution_count": 10,
     "metadata": {},
     "output_type": "execute_result"
    }
   ],
   "source": [
    "my_numpy[1:,2:]"
   ]
  },
  {
   "cell_type": "markdown",
   "id": "ef08af0c",
   "metadata": {},
   "source": [
    "## Reshaping Array"
   ]
  },
  {
   "cell_type": "code",
   "execution_count": 11,
   "id": "ef8beb45",
   "metadata": {},
   "outputs": [
    {
     "data": {
      "text/plain": [
       "array([[1, 2],\n",
       "       [3, 4],\n",
       "       [5, 6],\n",
       "       [7, 8],\n",
       "       [9, 0]])"
      ]
     },
     "execution_count": 11,
     "metadata": {},
     "output_type": "execute_result"
    }
   ],
   "source": [
    "my_numpy.reshape(5,2)"
   ]
  },
  {
   "cell_type": "markdown",
   "id": "9b787119",
   "metadata": {},
   "source": [
    "## Joining Array"
   ]
  },
  {
   "cell_type": "code",
   "execution_count": 12,
   "id": "e1211974",
   "metadata": {},
   "outputs": [
    {
     "data": {
      "text/plain": [
       "array([[1, 2, 3, 4, 5],\n",
       "       [6, 7, 8, 9, 0],\n",
       "       [1, 2, 3, 1, 4],\n",
       "       [2, 3, 5, 3, 5]])"
      ]
     },
     "execution_count": 12,
     "metadata": {},
     "output_type": "execute_result"
    }
   ],
   "source": [
    "my_numpy = np.array([\n",
    "                    [1,2,3,4,5],\n",
    "                    [6,7,8,9,0]\n",
    "                    ])\n",
    "\n",
    "nmpy = np.array([\n",
    "                [1,2,3,1,4], \n",
    "                [2,3,5,3,5]\n",
    "                ])\n",
    "\n",
    "np.concatenate([my_numpy, nmpy])"
   ]
  },
  {
   "cell_type": "markdown",
   "id": "88501073",
   "metadata": {},
   "source": [
    "## Series Pandas"
   ]
  },
  {
   "cell_type": "code",
   "execution_count": 15,
   "id": "b027cbfa",
   "metadata": {},
   "outputs": [
    {
     "name": "stdout",
     "output_type": "stream",
     "text": [
      "0    6\n",
      "1    3\n",
      "2    4\n",
      "3    6\n",
      "dtype: int64\n"
     ]
    }
   ],
   "source": [
    "import pandas as pd\n",
    "\n",
    "x = pd.Series([6,3,4,6])\n",
    "print(x)"
   ]
  },
  {
   "cell_type": "code",
   "execution_count": 16,
   "id": "18550377",
   "metadata": {},
   "outputs": [
    {
     "name": "stdout",
     "output_type": "stream",
     "text": [
      "a    6\n",
      "b    3\n",
      "c    4\n",
      "d    6\n",
      "dtype: int64\n"
     ]
    }
   ],
   "source": [
    "x.index = ['a', 'b', 'c', 'd']\n",
    "print(x)"
   ]
  },
  {
   "cell_type": "code",
   "execution_count": 17,
   "id": "c224f52b",
   "metadata": {},
   "outputs": [
    {
     "name": "stdout",
     "output_type": "stream",
     "text": [
      "a    6\n",
      "b    3\n",
      "c    4\n",
      "d    6\n",
      "dtype: int64\n"
     ]
    }
   ],
   "source": [
    "# cara kedua\n",
    "\n",
    "x = pd.Series([6,3,4,6], index=['a', 'b', 'c', 'd'])\n",
    "print(x)"
   ]
  },
  {
   "cell_type": "code",
   "execution_count": 18,
   "id": "dfdc32ef",
   "metadata": {},
   "outputs": [
    {
     "name": "stdout",
     "output_type": "stream",
     "text": [
      "<class 'pandas.core.series.Series'>\n"
     ]
    }
   ],
   "source": [
    "# check tipe data\n",
    "print(type(x))"
   ]
  },
  {
   "cell_type": "markdown",
   "id": "f967a180",
   "metadata": {},
   "source": [
    "## DataFrame Pandas"
   ]
  },
  {
   "cell_type": "code",
   "execution_count": 19,
   "id": "c2543a0d",
   "metadata": {},
   "outputs": [
    {
     "name": "stdout",
     "output_type": "stream",
     "text": [
      "   tipe_int tipe_string\n",
      "0        50           a\n",
      "1        21           b\n"
     ]
    }
   ],
   "source": [
    "import pandas as pd\n",
    "\n",
    "df = pd.DataFrame(\n",
    "    {'tipe_int': [50, 21], \n",
    "     'tipe_string': ['a', 'b']\n",
    "    })\n",
    "print(df)"
   ]
  },
  {
   "cell_type": "code",
   "execution_count": 20,
   "id": "41766e9b",
   "metadata": {},
   "outputs": [
    {
     "name": "stdout",
     "output_type": "stream",
     "text": [
      "<class 'pandas.core.frame.DataFrame'>\n"
     ]
    }
   ],
   "source": [
    "# check tipe data\n",
    "print(type(df))"
   ]
  },
  {
   "cell_type": "code",
   "execution_count": 22,
   "id": "99af90f9",
   "metadata": {},
   "outputs": [],
   "source": [
    "# membaca dari dari csv\n",
    "df_from_csv = pd.read_csv('jabar-corona-virus-case.csv')\n",
    "\n",
    "# membaca data dari excel\n",
    "df_from_excel = pd.read_excel('jabar-corona-virus-case.xlsx')"
   ]
  },
  {
   "cell_type": "code",
   "execution_count": 23,
   "id": "558ea37b",
   "metadata": {},
   "outputs": [
    {
     "data": {
      "text/html": [
       "<div>\n",
       "<style scoped>\n",
       "    .dataframe tbody tr th:only-of-type {\n",
       "        vertical-align: middle;\n",
       "    }\n",
       "\n",
       "    .dataframe tbody tr th {\n",
       "        vertical-align: top;\n",
       "    }\n",
       "\n",
       "    .dataframe thead th {\n",
       "        text-align: right;\n",
       "    }\n",
       "</style>\n",
       "<table border=\"1\" class=\"dataframe\">\n",
       "  <thead>\n",
       "    <tr style=\"text-align: right;\">\n",
       "      <th></th>\n",
       "      <th>tanggal</th>\n",
       "      <th>kode_prov</th>\n",
       "      <th>nama_prov</th>\n",
       "      <th>kode_kab</th>\n",
       "      <th>nama_kab</th>\n",
       "      <th>closecontact</th>\n",
       "      <th>closecontact_dikarantina</th>\n",
       "      <th>closecontact_discarded</th>\n",
       "      <th>suspect</th>\n",
       "      <th>suspect_diisolasi</th>\n",
       "      <th>...</th>\n",
       "      <th>pertumbuhan_suspect_discarded</th>\n",
       "      <th>pertumbuhan_suspect_diisolasi</th>\n",
       "      <th>pertumbuhan_probable</th>\n",
       "      <th>pertumbuhan_probable_discarded</th>\n",
       "      <th>pertumbuhan_probable_diisolasi</th>\n",
       "      <th>pertumbuhan_probable_meninggal</th>\n",
       "      <th>pertumbuhan_confirmation</th>\n",
       "      <th>pertumbuhan_confirmation_selesai</th>\n",
       "      <th>pertumbuhan_confirmation_meninggal</th>\n",
       "      <th>Unnamed: 31</th>\n",
       "    </tr>\n",
       "  </thead>\n",
       "  <tbody>\n",
       "    <tr>\n",
       "      <th>0</th>\n",
       "      <td>2020-08-01</td>\n",
       "      <td>32</td>\n",
       "      <td>Provinsi Jawa Barat</td>\n",
       "      <td>3208</td>\n",
       "      <td>KAB. KUNINGAN</td>\n",
       "      <td>0</td>\n",
       "      <td>0</td>\n",
       "      <td>0</td>\n",
       "      <td>0</td>\n",
       "      <td>0</td>\n",
       "      <td>...</td>\n",
       "      <td>0</td>\n",
       "      <td>0</td>\n",
       "      <td>0</td>\n",
       "      <td>0</td>\n",
       "      <td>0</td>\n",
       "      <td>0</td>\n",
       "      <td>0</td>\n",
       "      <td>0</td>\n",
       "      <td>0</td>\n",
       "      <td>NaN</td>\n",
       "    </tr>\n",
       "    <tr>\n",
       "      <th>1</th>\n",
       "      <td>2020-08-01</td>\n",
       "      <td>32</td>\n",
       "      <td>Provinsi Jawa Barat</td>\n",
       "      <td>3211</td>\n",
       "      <td>KAB. SUMEDANG</td>\n",
       "      <td>0</td>\n",
       "      <td>0</td>\n",
       "      <td>0</td>\n",
       "      <td>0</td>\n",
       "      <td>0</td>\n",
       "      <td>...</td>\n",
       "      <td>0</td>\n",
       "      <td>0</td>\n",
       "      <td>0</td>\n",
       "      <td>0</td>\n",
       "      <td>0</td>\n",
       "      <td>0</td>\n",
       "      <td>0</td>\n",
       "      <td>0</td>\n",
       "      <td>0</td>\n",
       "      <td>NaN</td>\n",
       "    </tr>\n",
       "    <tr>\n",
       "      <th>2</th>\n",
       "      <td>2020-08-01</td>\n",
       "      <td>32</td>\n",
       "      <td>Provinsi Jawa Barat</td>\n",
       "      <td>3213</td>\n",
       "      <td>KAB. SUBANG</td>\n",
       "      <td>0</td>\n",
       "      <td>0</td>\n",
       "      <td>0</td>\n",
       "      <td>0</td>\n",
       "      <td>0</td>\n",
       "      <td>...</td>\n",
       "      <td>0</td>\n",
       "      <td>0</td>\n",
       "      <td>0</td>\n",
       "      <td>0</td>\n",
       "      <td>0</td>\n",
       "      <td>0</td>\n",
       "      <td>2</td>\n",
       "      <td>0</td>\n",
       "      <td>0</td>\n",
       "      <td>NaN</td>\n",
       "    </tr>\n",
       "    <tr>\n",
       "      <th>3</th>\n",
       "      <td>2020-08-01</td>\n",
       "      <td>32</td>\n",
       "      <td>Provinsi Jawa Barat</td>\n",
       "      <td>3214</td>\n",
       "      <td>KAB. PURWAKARTA</td>\n",
       "      <td>0</td>\n",
       "      <td>0</td>\n",
       "      <td>0</td>\n",
       "      <td>0</td>\n",
       "      <td>0</td>\n",
       "      <td>...</td>\n",
       "      <td>0</td>\n",
       "      <td>0</td>\n",
       "      <td>0</td>\n",
       "      <td>0</td>\n",
       "      <td>0</td>\n",
       "      <td>0</td>\n",
       "      <td>1</td>\n",
       "      <td>0</td>\n",
       "      <td>0</td>\n",
       "      <td>NaN</td>\n",
       "    </tr>\n",
       "    <tr>\n",
       "      <th>4</th>\n",
       "      <td>2020-08-01</td>\n",
       "      <td>32</td>\n",
       "      <td>Provinsi Jawa Barat</td>\n",
       "      <td>3278</td>\n",
       "      <td>KOTA TASIKMALAYA</td>\n",
       "      <td>0</td>\n",
       "      <td>0</td>\n",
       "      <td>0</td>\n",
       "      <td>0</td>\n",
       "      <td>0</td>\n",
       "      <td>...</td>\n",
       "      <td>0</td>\n",
       "      <td>0</td>\n",
       "      <td>0</td>\n",
       "      <td>0</td>\n",
       "      <td>0</td>\n",
       "      <td>0</td>\n",
       "      <td>0</td>\n",
       "      <td>0</td>\n",
       "      <td>0</td>\n",
       "      <td>NaN</td>\n",
       "    </tr>\n",
       "  </tbody>\n",
       "</table>\n",
       "<p>5 rows × 32 columns</p>\n",
       "</div>"
      ],
      "text/plain": [
       "      tanggal  kode_prov            nama_prov  kode_kab          nama_kab  \\\n",
       "0  2020-08-01         32  Provinsi Jawa Barat      3208     KAB. KUNINGAN   \n",
       "1  2020-08-01         32  Provinsi Jawa Barat      3211     KAB. SUMEDANG   \n",
       "2  2020-08-01         32  Provinsi Jawa Barat      3213       KAB. SUBANG   \n",
       "3  2020-08-01         32  Provinsi Jawa Barat      3214   KAB. PURWAKARTA   \n",
       "4  2020-08-01         32  Provinsi Jawa Barat      3278  KOTA TASIKMALAYA   \n",
       "\n",
       "   closecontact  closecontact_dikarantina  closecontact_discarded  suspect  \\\n",
       "0             0                         0                       0        0   \n",
       "1             0                         0                       0        0   \n",
       "2             0                         0                       0        0   \n",
       "3             0                         0                       0        0   \n",
       "4             0                         0                       0        0   \n",
       "\n",
       "   suspect_diisolasi  ...  pertumbuhan_suspect_discarded  \\\n",
       "0                  0  ...                              0   \n",
       "1                  0  ...                              0   \n",
       "2                  0  ...                              0   \n",
       "3                  0  ...                              0   \n",
       "4                  0  ...                              0   \n",
       "\n",
       "   pertumbuhan_suspect_diisolasi  pertumbuhan_probable  \\\n",
       "0                              0                     0   \n",
       "1                              0                     0   \n",
       "2                              0                     0   \n",
       "3                              0                     0   \n",
       "4                              0                     0   \n",
       "\n",
       "   pertumbuhan_probable_discarded  pertumbuhan_probable_diisolasi  \\\n",
       "0                               0                               0   \n",
       "1                               0                               0   \n",
       "2                               0                               0   \n",
       "3                               0                               0   \n",
       "4                               0                               0   \n",
       "\n",
       "   pertumbuhan_probable_meninggal  pertumbuhan_confirmation  \\\n",
       "0                               0                         0   \n",
       "1                               0                         0   \n",
       "2                               0                         2   \n",
       "3                               0                         1   \n",
       "4                               0                         0   \n",
       "\n",
       "   pertumbuhan_confirmation_selesai  pertumbuhan_confirmation_meninggal  \\\n",
       "0                                 0                                   0   \n",
       "1                                 0                                   0   \n",
       "2                                 0                                   0   \n",
       "3                                 0                                   0   \n",
       "4                                 0                                   0   \n",
       "\n",
       "   Unnamed: 31  \n",
       "0          NaN  \n",
       "1          NaN  \n",
       "2          NaN  \n",
       "3          NaN  \n",
       "4          NaN  \n",
       "\n",
       "[5 rows x 32 columns]"
      ]
     },
     "execution_count": 23,
     "metadata": {},
     "output_type": "execute_result"
    }
   ],
   "source": [
    "df_from_csv.head()"
   ]
  },
  {
   "cell_type": "code",
   "execution_count": 24,
   "id": "4eb0da9f",
   "metadata": {},
   "outputs": [
    {
     "data": {
      "text/html": [
       "<div>\n",
       "<style scoped>\n",
       "    .dataframe tbody tr th:only-of-type {\n",
       "        vertical-align: middle;\n",
       "    }\n",
       "\n",
       "    .dataframe tbody tr th {\n",
       "        vertical-align: top;\n",
       "    }\n",
       "\n",
       "    .dataframe thead th {\n",
       "        text-align: right;\n",
       "    }\n",
       "</style>\n",
       "<table border=\"1\" class=\"dataframe\">\n",
       "  <thead>\n",
       "    <tr style=\"text-align: right;\">\n",
       "      <th></th>\n",
       "      <th>tanggal</th>\n",
       "      <th>kode_prov</th>\n",
       "      <th>nama_prov</th>\n",
       "      <th>kode_kab</th>\n",
       "      <th>nama_kab</th>\n",
       "      <th>closecontact</th>\n",
       "      <th>closecontact_dikarantina</th>\n",
       "      <th>closecontact_discarded</th>\n",
       "      <th>suspect</th>\n",
       "      <th>suspect_diisolasi</th>\n",
       "      <th>...</th>\n",
       "      <th>pertumbuhan_suspect_discarded</th>\n",
       "      <th>pertumbuhan_suspect_diisolasi</th>\n",
       "      <th>pertumbuhan_probable</th>\n",
       "      <th>pertumbuhan_probable_discarded</th>\n",
       "      <th>pertumbuhan_probable_diisolasi</th>\n",
       "      <th>pertumbuhan_probable_meninggal</th>\n",
       "      <th>pertumbuhan_confirmation</th>\n",
       "      <th>pertumbuhan_confirmation_selesai</th>\n",
       "      <th>pertumbuhan_confirmation_meninggal</th>\n",
       "      <th>Unnamed: 31</th>\n",
       "    </tr>\n",
       "  </thead>\n",
       "  <tbody>\n",
       "    <tr>\n",
       "      <th>11839</th>\n",
       "      <td>2021-09-27</td>\n",
       "      <td>32</td>\n",
       "      <td>Provinsi Jawa Barat</td>\n",
       "      <td>3212</td>\n",
       "      <td>KAB. INDRAMAYU</td>\n",
       "      <td>0</td>\n",
       "      <td>0</td>\n",
       "      <td>0</td>\n",
       "      <td>0</td>\n",
       "      <td>0</td>\n",
       "      <td>...</td>\n",
       "      <td>0</td>\n",
       "      <td>0</td>\n",
       "      <td>0</td>\n",
       "      <td>0</td>\n",
       "      <td>0</td>\n",
       "      <td>0</td>\n",
       "      <td>0</td>\n",
       "      <td>0</td>\n",
       "      <td>0</td>\n",
       "      <td>NaN</td>\n",
       "    </tr>\n",
       "    <tr>\n",
       "      <th>11840</th>\n",
       "      <td>2021-09-27</td>\n",
       "      <td>32</td>\n",
       "      <td>Provinsi Jawa Barat</td>\n",
       "      <td>3272</td>\n",
       "      <td>KOTA SUKABUMI</td>\n",
       "      <td>0</td>\n",
       "      <td>0</td>\n",
       "      <td>0</td>\n",
       "      <td>0</td>\n",
       "      <td>0</td>\n",
       "      <td>...</td>\n",
       "      <td>0</td>\n",
       "      <td>0</td>\n",
       "      <td>0</td>\n",
       "      <td>0</td>\n",
       "      <td>0</td>\n",
       "      <td>0</td>\n",
       "      <td>0</td>\n",
       "      <td>0</td>\n",
       "      <td>0</td>\n",
       "      <td>NaN</td>\n",
       "    </tr>\n",
       "    <tr>\n",
       "      <th>11841</th>\n",
       "      <td>2021-09-27</td>\n",
       "      <td>32</td>\n",
       "      <td>Provinsi Jawa Barat</td>\n",
       "      <td>3215</td>\n",
       "      <td>KAB. KARAWANG</td>\n",
       "      <td>0</td>\n",
       "      <td>0</td>\n",
       "      <td>0</td>\n",
       "      <td>0</td>\n",
       "      <td>0</td>\n",
       "      <td>...</td>\n",
       "      <td>0</td>\n",
       "      <td>0</td>\n",
       "      <td>0</td>\n",
       "      <td>0</td>\n",
       "      <td>0</td>\n",
       "      <td>0</td>\n",
       "      <td>0</td>\n",
       "      <td>0</td>\n",
       "      <td>0</td>\n",
       "      <td>NaN</td>\n",
       "    </tr>\n",
       "    <tr>\n",
       "      <th>11842</th>\n",
       "      <td>2021-09-27</td>\n",
       "      <td>32</td>\n",
       "      <td>Provinsi Jawa Barat</td>\n",
       "      <td>3274</td>\n",
       "      <td>KOTA CIREBON</td>\n",
       "      <td>0</td>\n",
       "      <td>0</td>\n",
       "      <td>0</td>\n",
       "      <td>0</td>\n",
       "      <td>0</td>\n",
       "      <td>...</td>\n",
       "      <td>0</td>\n",
       "      <td>0</td>\n",
       "      <td>0</td>\n",
       "      <td>0</td>\n",
       "      <td>0</td>\n",
       "      <td>0</td>\n",
       "      <td>0</td>\n",
       "      <td>0</td>\n",
       "      <td>0</td>\n",
       "      <td>NaN</td>\n",
       "    </tr>\n",
       "    <tr>\n",
       "      <th>11843</th>\n",
       "      <td>2021-09-27</td>\n",
       "      <td>32</td>\n",
       "      <td>Provinsi Jawa Barat</td>\n",
       "      <td>3207</td>\n",
       "      <td>KAB. CIAMIS</td>\n",
       "      <td>0</td>\n",
       "      <td>0</td>\n",
       "      <td>0</td>\n",
       "      <td>0</td>\n",
       "      <td>0</td>\n",
       "      <td>...</td>\n",
       "      <td>0</td>\n",
       "      <td>0</td>\n",
       "      <td>0</td>\n",
       "      <td>0</td>\n",
       "      <td>0</td>\n",
       "      <td>0</td>\n",
       "      <td>0</td>\n",
       "      <td>0</td>\n",
       "      <td>0</td>\n",
       "      <td>NaN</td>\n",
       "    </tr>\n",
       "  </tbody>\n",
       "</table>\n",
       "<p>5 rows × 32 columns</p>\n",
       "</div>"
      ],
      "text/plain": [
       "          tanggal  kode_prov            nama_prov  kode_kab        nama_kab  \\\n",
       "11839  2021-09-27         32  Provinsi Jawa Barat      3212  KAB. INDRAMAYU   \n",
       "11840  2021-09-27         32  Provinsi Jawa Barat      3272   KOTA SUKABUMI   \n",
       "11841  2021-09-27         32  Provinsi Jawa Barat      3215   KAB. KARAWANG   \n",
       "11842  2021-09-27         32  Provinsi Jawa Barat      3274    KOTA CIREBON   \n",
       "11843  2021-09-27         32  Provinsi Jawa Barat      3207     KAB. CIAMIS   \n",
       "\n",
       "       closecontact  closecontact_dikarantina  closecontact_discarded  \\\n",
       "11839             0                         0                       0   \n",
       "11840             0                         0                       0   \n",
       "11841             0                         0                       0   \n",
       "11842             0                         0                       0   \n",
       "11843             0                         0                       0   \n",
       "\n",
       "       suspect  suspect_diisolasi  ...  pertumbuhan_suspect_discarded  \\\n",
       "11839        0                  0  ...                              0   \n",
       "11840        0                  0  ...                              0   \n",
       "11841        0                  0  ...                              0   \n",
       "11842        0                  0  ...                              0   \n",
       "11843        0                  0  ...                              0   \n",
       "\n",
       "       pertumbuhan_suspect_diisolasi  pertumbuhan_probable  \\\n",
       "11839                              0                     0   \n",
       "11840                              0                     0   \n",
       "11841                              0                     0   \n",
       "11842                              0                     0   \n",
       "11843                              0                     0   \n",
       "\n",
       "       pertumbuhan_probable_discarded  pertumbuhan_probable_diisolasi  \\\n",
       "11839                               0                               0   \n",
       "11840                               0                               0   \n",
       "11841                               0                               0   \n",
       "11842                               0                               0   \n",
       "11843                               0                               0   \n",
       "\n",
       "       pertumbuhan_probable_meninggal  pertumbuhan_confirmation  \\\n",
       "11839                               0                         0   \n",
       "11840                               0                         0   \n",
       "11841                               0                         0   \n",
       "11842                               0                         0   \n",
       "11843                               0                         0   \n",
       "\n",
       "       pertumbuhan_confirmation_selesai  pertumbuhan_confirmation_meninggal  \\\n",
       "11839                                 0                                   0   \n",
       "11840                                 0                                   0   \n",
       "11841                                 0                                   0   \n",
       "11842                                 0                                   0   \n",
       "11843                                 0                                   0   \n",
       "\n",
       "       Unnamed: 31  \n",
       "11839          NaN  \n",
       "11840          NaN  \n",
       "11841          NaN  \n",
       "11842          NaN  \n",
       "11843          NaN  \n",
       "\n",
       "[5 rows x 32 columns]"
      ]
     },
     "execution_count": 24,
     "metadata": {},
     "output_type": "execute_result"
    }
   ],
   "source": [
    "df_from_csv.tail()"
   ]
  },
  {
   "cell_type": "code",
   "execution_count": 25,
   "id": "29da685e",
   "metadata": {},
   "outputs": [
    {
     "name": "stdout",
     "output_type": "stream",
     "text": [
      "<class 'pandas.core.frame.DataFrame'>\n",
      "RangeIndex: 11844 entries, 0 to 11843\n",
      "Data columns (total 32 columns):\n",
      " #   Column                                Non-Null Count  Dtype  \n",
      "---  ------                                --------------  -----  \n",
      " 0   tanggal                               11844 non-null  object \n",
      " 1   kode_prov                             11844 non-null  int64  \n",
      " 2   nama_prov                             11844 non-null  object \n",
      " 3   kode_kab                              11844 non-null  int64  \n",
      " 4   nama_kab                              11844 non-null  object \n",
      " 5   closecontact                          11844 non-null  int64  \n",
      " 6   closecontact_dikarantina              11844 non-null  int64  \n",
      " 7   closecontact_discarded                11844 non-null  int64  \n",
      " 8   suspect                               11844 non-null  int64  \n",
      " 9   suspect_diisolasi                     11844 non-null  int64  \n",
      " 10  suspect_discarded                     11844 non-null  int64  \n",
      " 11  probable                              11844 non-null  int64  \n",
      " 12  probable_diisolasi                    11844 non-null  int64  \n",
      " 13  probable_discarded                    11844 non-null  int64  \n",
      " 14  probable_meninggal                    11844 non-null  int64  \n",
      " 15  confirmation                          11844 non-null  int64  \n",
      " 16  confirmation_selesai                  11844 non-null  int64  \n",
      " 17  confirmation_meninggal                11844 non-null  int64  \n",
      " 18  pertumbuhan_closecontact              11844 non-null  int64  \n",
      " 19  pertumbuhan_closecontact_discarded    11844 non-null  int64  \n",
      " 20  pertumbuhan_closecontact_dikarantina  11844 non-null  int64  \n",
      " 21  pertumbuhan_suspect                   11844 non-null  int64  \n",
      " 22  pertumbuhan_suspect_discarded         11844 non-null  int64  \n",
      " 23  pertumbuhan_suspect_diisolasi         11844 non-null  int64  \n",
      " 24  pertumbuhan_probable                  11844 non-null  int64  \n",
      " 25  pertumbuhan_probable_discarded        11844 non-null  int64  \n",
      " 26  pertumbuhan_probable_diisolasi        11844 non-null  int64  \n",
      " 27  pertumbuhan_probable_meninggal        11844 non-null  int64  \n",
      " 28  pertumbuhan_confirmation              11844 non-null  int64  \n",
      " 29  pertumbuhan_confirmation_selesai      11844 non-null  int64  \n",
      " 30  pertumbuhan_confirmation_meninggal    11844 non-null  int64  \n",
      " 31  Unnamed: 31                           0 non-null      float64\n",
      "dtypes: float64(1), int64(28), object(3)\n",
      "memory usage: 2.9+ MB\n"
     ]
    }
   ],
   "source": [
    "df_from_csv.info()"
   ]
  },
  {
   "cell_type": "code",
   "execution_count": 26,
   "id": "3e547048",
   "metadata": {},
   "outputs": [
    {
     "data": {
      "text/html": [
       "<div>\n",
       "<style scoped>\n",
       "    .dataframe tbody tr th:only-of-type {\n",
       "        vertical-align: middle;\n",
       "    }\n",
       "\n",
       "    .dataframe tbody tr th {\n",
       "        vertical-align: top;\n",
       "    }\n",
       "\n",
       "    .dataframe thead th {\n",
       "        text-align: right;\n",
       "    }\n",
       "</style>\n",
       "<table border=\"1\" class=\"dataframe\">\n",
       "  <thead>\n",
       "    <tr style=\"text-align: right;\">\n",
       "      <th></th>\n",
       "      <th>kode_prov</th>\n",
       "      <th>kode_kab</th>\n",
       "      <th>closecontact</th>\n",
       "      <th>closecontact_dikarantina</th>\n",
       "      <th>closecontact_discarded</th>\n",
       "      <th>suspect</th>\n",
       "      <th>suspect_diisolasi</th>\n",
       "      <th>suspect_discarded</th>\n",
       "      <th>probable</th>\n",
       "      <th>probable_diisolasi</th>\n",
       "      <th>...</th>\n",
       "      <th>pertumbuhan_suspect_discarded</th>\n",
       "      <th>pertumbuhan_suspect_diisolasi</th>\n",
       "      <th>pertumbuhan_probable</th>\n",
       "      <th>pertumbuhan_probable_discarded</th>\n",
       "      <th>pertumbuhan_probable_diisolasi</th>\n",
       "      <th>pertumbuhan_probable_meninggal</th>\n",
       "      <th>pertumbuhan_confirmation</th>\n",
       "      <th>pertumbuhan_confirmation_selesai</th>\n",
       "      <th>pertumbuhan_confirmation_meninggal</th>\n",
       "      <th>Unnamed: 31</th>\n",
       "    </tr>\n",
       "  </thead>\n",
       "  <tbody>\n",
       "    <tr>\n",
       "      <th>count</th>\n",
       "      <td>11844.0</td>\n",
       "      <td>11844.000000</td>\n",
       "      <td>11844.0</td>\n",
       "      <td>11844.0</td>\n",
       "      <td>11844.0</td>\n",
       "      <td>11844.0</td>\n",
       "      <td>11844.0</td>\n",
       "      <td>11844.0</td>\n",
       "      <td>11844.0</td>\n",
       "      <td>11844.0</td>\n",
       "      <td>...</td>\n",
       "      <td>11844.0</td>\n",
       "      <td>11844.0</td>\n",
       "      <td>11844.0</td>\n",
       "      <td>11844.0</td>\n",
       "      <td>11844.0</td>\n",
       "      <td>11844.0</td>\n",
       "      <td>11844.000000</td>\n",
       "      <td>11844.000000</td>\n",
       "      <td>11844.000000</td>\n",
       "      <td>0.0</td>\n",
       "    </tr>\n",
       "    <tr>\n",
       "      <th>mean</th>\n",
       "      <td>32.0</td>\n",
       "      <td>3115.928571</td>\n",
       "      <td>0.0</td>\n",
       "      <td>0.0</td>\n",
       "      <td>0.0</td>\n",
       "      <td>0.0</td>\n",
       "      <td>0.0</td>\n",
       "      <td>0.0</td>\n",
       "      <td>0.0</td>\n",
       "      <td>0.0</td>\n",
       "      <td>...</td>\n",
       "      <td>0.0</td>\n",
       "      <td>0.0</td>\n",
       "      <td>0.0</td>\n",
       "      <td>0.0</td>\n",
       "      <td>0.0</td>\n",
       "      <td>0.0</td>\n",
       "      <td>58.724755</td>\n",
       "      <td>57.409574</td>\n",
       "      <td>1.214623</td>\n",
       "      <td>NaN</td>\n",
       "    </tr>\n",
       "    <tr>\n",
       "      <th>std</th>\n",
       "      <td>0.0</td>\n",
       "      <td>600.468337</td>\n",
       "      <td>0.0</td>\n",
       "      <td>0.0</td>\n",
       "      <td>0.0</td>\n",
       "      <td>0.0</td>\n",
       "      <td>0.0</td>\n",
       "      <td>0.0</td>\n",
       "      <td>0.0</td>\n",
       "      <td>0.0</td>\n",
       "      <td>...</td>\n",
       "      <td>0.0</td>\n",
       "      <td>0.0</td>\n",
       "      <td>0.0</td>\n",
       "      <td>0.0</td>\n",
       "      <td>0.0</td>\n",
       "      <td>0.0</td>\n",
       "      <td>154.543544</td>\n",
       "      <td>264.576700</td>\n",
       "      <td>8.435141</td>\n",
       "      <td>NaN</td>\n",
       "    </tr>\n",
       "    <tr>\n",
       "      <th>min</th>\n",
       "      <td>32.0</td>\n",
       "      <td>0.000000</td>\n",
       "      <td>0.0</td>\n",
       "      <td>0.0</td>\n",
       "      <td>0.0</td>\n",
       "      <td>0.0</td>\n",
       "      <td>0.0</td>\n",
       "      <td>0.0</td>\n",
       "      <td>0.0</td>\n",
       "      <td>0.0</td>\n",
       "      <td>...</td>\n",
       "      <td>0.0</td>\n",
       "      <td>0.0</td>\n",
       "      <td>0.0</td>\n",
       "      <td>0.0</td>\n",
       "      <td>0.0</td>\n",
       "      <td>0.0</td>\n",
       "      <td>0.000000</td>\n",
       "      <td>0.000000</td>\n",
       "      <td>0.000000</td>\n",
       "      <td>NaN</td>\n",
       "    </tr>\n",
       "    <tr>\n",
       "      <th>25%</th>\n",
       "      <td>32.0</td>\n",
       "      <td>3206.750000</td>\n",
       "      <td>0.0</td>\n",
       "      <td>0.0</td>\n",
       "      <td>0.0</td>\n",
       "      <td>0.0</td>\n",
       "      <td>0.0</td>\n",
       "      <td>0.0</td>\n",
       "      <td>0.0</td>\n",
       "      <td>0.0</td>\n",
       "      <td>...</td>\n",
       "      <td>0.0</td>\n",
       "      <td>0.0</td>\n",
       "      <td>0.0</td>\n",
       "      <td>0.0</td>\n",
       "      <td>0.0</td>\n",
       "      <td>0.0</td>\n",
       "      <td>1.000000</td>\n",
       "      <td>0.000000</td>\n",
       "      <td>0.000000</td>\n",
       "      <td>NaN</td>\n",
       "    </tr>\n",
       "    <tr>\n",
       "      <th>50%</th>\n",
       "      <td>32.0</td>\n",
       "      <td>3213.500000</td>\n",
       "      <td>0.0</td>\n",
       "      <td>0.0</td>\n",
       "      <td>0.0</td>\n",
       "      <td>0.0</td>\n",
       "      <td>0.0</td>\n",
       "      <td>0.0</td>\n",
       "      <td>0.0</td>\n",
       "      <td>0.0</td>\n",
       "      <td>...</td>\n",
       "      <td>0.0</td>\n",
       "      <td>0.0</td>\n",
       "      <td>0.0</td>\n",
       "      <td>0.0</td>\n",
       "      <td>0.0</td>\n",
       "      <td>0.0</td>\n",
       "      <td>11.000000</td>\n",
       "      <td>4.000000</td>\n",
       "      <td>0.000000</td>\n",
       "      <td>NaN</td>\n",
       "    </tr>\n",
       "    <tr>\n",
       "      <th>75%</th>\n",
       "      <td>32.0</td>\n",
       "      <td>3272.250000</td>\n",
       "      <td>0.0</td>\n",
       "      <td>0.0</td>\n",
       "      <td>0.0</td>\n",
       "      <td>0.0</td>\n",
       "      <td>0.0</td>\n",
       "      <td>0.0</td>\n",
       "      <td>0.0</td>\n",
       "      <td>0.0</td>\n",
       "      <td>...</td>\n",
       "      <td>0.0</td>\n",
       "      <td>0.0</td>\n",
       "      <td>0.0</td>\n",
       "      <td>0.0</td>\n",
       "      <td>0.0</td>\n",
       "      <td>0.0</td>\n",
       "      <td>54.000000</td>\n",
       "      <td>43.000000</td>\n",
       "      <td>0.000000</td>\n",
       "      <td>NaN</td>\n",
       "    </tr>\n",
       "    <tr>\n",
       "      <th>max</th>\n",
       "      <td>32.0</td>\n",
       "      <td>3279.000000</td>\n",
       "      <td>0.0</td>\n",
       "      <td>0.0</td>\n",
       "      <td>0.0</td>\n",
       "      <td>0.0</td>\n",
       "      <td>0.0</td>\n",
       "      <td>0.0</td>\n",
       "      <td>0.0</td>\n",
       "      <td>0.0</td>\n",
       "      <td>...</td>\n",
       "      <td>0.0</td>\n",
       "      <td>0.0</td>\n",
       "      <td>0.0</td>\n",
       "      <td>0.0</td>\n",
       "      <td>0.0</td>\n",
       "      <td>0.0</td>\n",
       "      <td>3828.000000</td>\n",
       "      <td>15835.000000</td>\n",
       "      <td>397.000000</td>\n",
       "      <td>NaN</td>\n",
       "    </tr>\n",
       "  </tbody>\n",
       "</table>\n",
       "<p>8 rows × 29 columns</p>\n",
       "</div>"
      ],
      "text/plain": [
       "       kode_prov      kode_kab  closecontact  closecontact_dikarantina  \\\n",
       "count    11844.0  11844.000000       11844.0                   11844.0   \n",
       "mean        32.0   3115.928571           0.0                       0.0   \n",
       "std          0.0    600.468337           0.0                       0.0   \n",
       "min         32.0      0.000000           0.0                       0.0   \n",
       "25%         32.0   3206.750000           0.0                       0.0   \n",
       "50%         32.0   3213.500000           0.0                       0.0   \n",
       "75%         32.0   3272.250000           0.0                       0.0   \n",
       "max         32.0   3279.000000           0.0                       0.0   \n",
       "\n",
       "       closecontact_discarded  suspect  suspect_diisolasi  suspect_discarded  \\\n",
       "count                 11844.0  11844.0            11844.0            11844.0   \n",
       "mean                      0.0      0.0                0.0                0.0   \n",
       "std                       0.0      0.0                0.0                0.0   \n",
       "min                       0.0      0.0                0.0                0.0   \n",
       "25%                       0.0      0.0                0.0                0.0   \n",
       "50%                       0.0      0.0                0.0                0.0   \n",
       "75%                       0.0      0.0                0.0                0.0   \n",
       "max                       0.0      0.0                0.0                0.0   \n",
       "\n",
       "       probable  probable_diisolasi  ...  pertumbuhan_suspect_discarded  \\\n",
       "count   11844.0             11844.0  ...                        11844.0   \n",
       "mean        0.0                 0.0  ...                            0.0   \n",
       "std         0.0                 0.0  ...                            0.0   \n",
       "min         0.0                 0.0  ...                            0.0   \n",
       "25%         0.0                 0.0  ...                            0.0   \n",
       "50%         0.0                 0.0  ...                            0.0   \n",
       "75%         0.0                 0.0  ...                            0.0   \n",
       "max         0.0                 0.0  ...                            0.0   \n",
       "\n",
       "       pertumbuhan_suspect_diisolasi  pertumbuhan_probable  \\\n",
       "count                        11844.0               11844.0   \n",
       "mean                             0.0                   0.0   \n",
       "std                              0.0                   0.0   \n",
       "min                              0.0                   0.0   \n",
       "25%                              0.0                   0.0   \n",
       "50%                              0.0                   0.0   \n",
       "75%                              0.0                   0.0   \n",
       "max                              0.0                   0.0   \n",
       "\n",
       "       pertumbuhan_probable_discarded  pertumbuhan_probable_diisolasi  \\\n",
       "count                         11844.0                         11844.0   \n",
       "mean                              0.0                             0.0   \n",
       "std                               0.0                             0.0   \n",
       "min                               0.0                             0.0   \n",
       "25%                               0.0                             0.0   \n",
       "50%                               0.0                             0.0   \n",
       "75%                               0.0                             0.0   \n",
       "max                               0.0                             0.0   \n",
       "\n",
       "       pertumbuhan_probable_meninggal  pertumbuhan_confirmation  \\\n",
       "count                         11844.0              11844.000000   \n",
       "mean                              0.0                 58.724755   \n",
       "std                               0.0                154.543544   \n",
       "min                               0.0                  0.000000   \n",
       "25%                               0.0                  1.000000   \n",
       "50%                               0.0                 11.000000   \n",
       "75%                               0.0                 54.000000   \n",
       "max                               0.0               3828.000000   \n",
       "\n",
       "       pertumbuhan_confirmation_selesai  pertumbuhan_confirmation_meninggal  \\\n",
       "count                      11844.000000                        11844.000000   \n",
       "mean                          57.409574                            1.214623   \n",
       "std                          264.576700                            8.435141   \n",
       "min                            0.000000                            0.000000   \n",
       "25%                            0.000000                            0.000000   \n",
       "50%                            4.000000                            0.000000   \n",
       "75%                           43.000000                            0.000000   \n",
       "max                        15835.000000                          397.000000   \n",
       "\n",
       "       Unnamed: 31  \n",
       "count          0.0  \n",
       "mean           NaN  \n",
       "std            NaN  \n",
       "min            NaN  \n",
       "25%            NaN  \n",
       "50%            NaN  \n",
       "75%            NaN  \n",
       "max            NaN  \n",
       "\n",
       "[8 rows x 29 columns]"
      ]
     },
     "execution_count": 26,
     "metadata": {},
     "output_type": "execute_result"
    }
   ],
   "source": [
    "df_from_csv.describe()"
   ]
  },
  {
   "cell_type": "code",
   "execution_count": null,
   "id": "abc5f2bf",
   "metadata": {},
   "outputs": [],
   "source": []
  },
  {
   "cell_type": "code",
   "execution_count": null,
   "id": "ae92267d",
   "metadata": {},
   "outputs": [],
   "source": []
  }
 ],
 "metadata": {
  "kernelspec": {
   "display_name": "Python 3 (ipykernel)",
   "language": "python",
   "name": "python3"
  },
  "language_info": {
   "codemirror_mode": {
    "name": "ipython",
    "version": 3
   },
   "file_extension": ".py",
   "mimetype": "text/x-python",
   "name": "python",
   "nbconvert_exporter": "python",
   "pygments_lexer": "ipython3",
   "version": "3.9.6"
  }
 },
 "nbformat": 4,
 "nbformat_minor": 5
}
