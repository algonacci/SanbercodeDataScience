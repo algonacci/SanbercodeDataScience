{
 "cells": [
  {
   "cell_type": "markdown",
   "id": "d65b8357",
   "metadata": {},
   "source": [
    "## Series as dictionary"
   ]
  },
  {
   "cell_type": "code",
   "execution_count": 6,
   "id": "6133f02a",
   "metadata": {},
   "outputs": [
    {
     "data": {
      "text/plain": [
       "a    1\n",
       "b    2\n",
       "c    3\n",
       "d    4\n",
       "dtype: int64"
      ]
     },
     "execution_count": 6,
     "metadata": {},
     "output_type": "execute_result"
    }
   ],
   "source": [
    "import pandas as pd\n",
    "obj_series = pd.Series([1,2,3,4], index=['a','b','c','d'])\n",
    "obj_series"
   ]
  },
  {
   "cell_type": "code",
   "execution_count": 2,
   "id": "8336cc2b",
   "metadata": {},
   "outputs": [
    {
     "data": {
      "text/plain": [
       "Index(['a', 'b', 'c', 'd'], dtype='object')"
      ]
     },
     "execution_count": 2,
     "metadata": {},
     "output_type": "execute_result"
    }
   ],
   "source": [
    "#indexing key\n",
    "obj_series.keys()"
   ]
  },
  {
   "cell_type": "code",
   "execution_count": 3,
   "id": "e0bda523",
   "metadata": {},
   "outputs": [
    {
     "data": {
      "text/plain": [
       "array([1, 2, 3, 4], dtype=int64)"
      ]
     },
     "execution_count": 3,
     "metadata": {},
     "output_type": "execute_result"
    }
   ],
   "source": [
    "obj_series.values"
   ]
  },
  {
   "cell_type": "code",
   "execution_count": 4,
   "id": "fbf4dd1b",
   "metadata": {},
   "outputs": [
    {
     "data": {
      "text/plain": [
       "True"
      ]
     },
     "execution_count": 4,
     "metadata": {},
     "output_type": "execute_result"
    }
   ],
   "source": [
    "'b' in obj_series"
   ]
  },
  {
   "cell_type": "markdown",
   "id": "622c2383",
   "metadata": {},
   "source": [
    "## Series as Array"
   ]
  },
  {
   "cell_type": "code",
   "execution_count": 5,
   "id": "ab2c3504",
   "metadata": {},
   "outputs": [
    {
     "data": {
      "text/plain": [
       "a    1\n",
       "b    2\n",
       "c    3\n",
       "dtype: int64"
      ]
     },
     "execution_count": 5,
     "metadata": {},
     "output_type": "execute_result"
    }
   ],
   "source": [
    "# slicing dengan explicit index\n",
    "obj_series['a':'c']"
   ]
  },
  {
   "cell_type": "code",
   "execution_count": 7,
   "id": "5fc8dec2",
   "metadata": {},
   "outputs": [
    {
     "data": {
      "text/plain": [
       "a    1\n",
       "b    2\n",
       "c    3\n",
       "dtype: int64"
      ]
     },
     "execution_count": 7,
     "metadata": {},
     "output_type": "execute_result"
    }
   ],
   "source": [
    "#slicing dengan implicit index\n",
    "obj_series[:3]"
   ]
  },
  {
   "cell_type": "markdown",
   "id": "0f3448b8",
   "metadata": {},
   "source": [
    "## Indexing menggunakan .loc dan .iloc objek series\n",
    "- .loc indexing: indexing berdasarkan label objek series\n",
    "- .iloc indexing: indexing berdasarkan posisi objek series"
   ]
  },
  {
   "cell_type": "code",
   "execution_count": 8,
   "id": "0d14de4b",
   "metadata": {},
   "outputs": [
    {
     "data": {
      "text/plain": [
       "a    1\n",
       "b    2\n",
       "c    3\n",
       "dtype: int64"
      ]
     },
     "execution_count": 8,
     "metadata": {},
     "output_type": "execute_result"
    }
   ],
   "source": [
    "#.loc indexing\n",
    "obj_series.loc['a':'c']"
   ]
  },
  {
   "cell_type": "code",
   "execution_count": 9,
   "id": "ec5a4995",
   "metadata": {},
   "outputs": [
    {
     "data": {
      "text/plain": [
       "a    1\n",
       "b    2\n",
       "c    3\n",
       "dtype: int64"
      ]
     },
     "execution_count": 9,
     "metadata": {},
     "output_type": "execute_result"
    }
   ],
   "source": [
    "#.iloc indexing\n",
    "obj_series.iloc[:3]"
   ]
  },
  {
   "cell_type": "markdown",
   "id": "04244cb2",
   "metadata": {},
   "source": [
    "## Filtering objek series"
   ]
  },
  {
   "cell_type": "code",
   "execution_count": 10,
   "id": "fea90135",
   "metadata": {},
   "outputs": [
    {
     "data": {
      "text/plain": [
       "c    3\n",
       "d    4\n",
       "dtype: int64"
      ]
     },
     "execution_count": 10,
     "metadata": {},
     "output_type": "execute_result"
    }
   ],
   "source": [
    "obj_series[obj_series>2]"
   ]
  },
  {
   "cell_type": "code",
   "execution_count": 11,
   "id": "43ea126f",
   "metadata": {},
   "outputs": [
    {
     "data": {
      "text/plain": [
       "c    3\n",
       "d    4\n",
       "dtype: int64"
      ]
     },
     "execution_count": 11,
     "metadata": {},
     "output_type": "execute_result"
    }
   ],
   "source": [
    "obj_series[['c','d']]"
   ]
  },
  {
   "cell_type": "markdown",
   "id": "35b54337",
   "metadata": {},
   "source": [
    "## Indexing DataFrame\n",
    "- Akses DataFrame sering juga di kenal indexing atau Subset Selection. secara sederhana maknanya adalah kita memilih suatu data dari baris tertentu dan column tertentu. kita bisa saja memilih beberapa baris dan semua kolom dari data, semua baris dan beberapa column dari data, atau beberapa baris dan bebearpa column dari data.\n"
   ]
  },
  {
   "cell_type": "code",
   "execution_count": 12,
   "id": "f61fd6f8",
   "metadata": {},
   "outputs": [
    {
     "data": {
      "text/html": [
       "<div>\n",
       "<style scoped>\n",
       "    .dataframe tbody tr th:only-of-type {\n",
       "        vertical-align: middle;\n",
       "    }\n",
       "\n",
       "    .dataframe tbody tr th {\n",
       "        vertical-align: top;\n",
       "    }\n",
       "\n",
       "    .dataframe thead th {\n",
       "        text-align: right;\n",
       "    }\n",
       "</style>\n",
       "<table border=\"1\" class=\"dataframe\">\n",
       "  <thead>\n",
       "    <tr style=\"text-align: right;\">\n",
       "      <th></th>\n",
       "      <th>Review #</th>\n",
       "      <th>Brand</th>\n",
       "      <th>Variety</th>\n",
       "      <th>Style</th>\n",
       "      <th>Country</th>\n",
       "      <th>Stars</th>\n",
       "      <th>Top Ten</th>\n",
       "    </tr>\n",
       "  </thead>\n",
       "  <tbody>\n",
       "    <tr>\n",
       "      <th>0</th>\n",
       "      <td>2580</td>\n",
       "      <td>New Touch</td>\n",
       "      <td>T's Restaurant Tantanmen</td>\n",
       "      <td>Cup</td>\n",
       "      <td>Japan</td>\n",
       "      <td>3.75</td>\n",
       "      <td>NaN</td>\n",
       "    </tr>\n",
       "    <tr>\n",
       "      <th>1</th>\n",
       "      <td>2579</td>\n",
       "      <td>Just Way</td>\n",
       "      <td>Noodles Spicy Hot Sesame Spicy Hot Sesame Guan...</td>\n",
       "      <td>Pack</td>\n",
       "      <td>Taiwan</td>\n",
       "      <td>1</td>\n",
       "      <td>NaN</td>\n",
       "    </tr>\n",
       "    <tr>\n",
       "      <th>2</th>\n",
       "      <td>2578</td>\n",
       "      <td>Nissin</td>\n",
       "      <td>Cup Noodles Chicken Vegetable</td>\n",
       "      <td>Cup</td>\n",
       "      <td>USA</td>\n",
       "      <td>2.25</td>\n",
       "      <td>NaN</td>\n",
       "    </tr>\n",
       "    <tr>\n",
       "      <th>3</th>\n",
       "      <td>2577</td>\n",
       "      <td>Wei Lih</td>\n",
       "      <td>GGE Ramen Snack Tomato Flavor</td>\n",
       "      <td>Pack</td>\n",
       "      <td>Taiwan</td>\n",
       "      <td>2.75</td>\n",
       "      <td>NaN</td>\n",
       "    </tr>\n",
       "    <tr>\n",
       "      <th>4</th>\n",
       "      <td>2576</td>\n",
       "      <td>Ching's Secret</td>\n",
       "      <td>Singapore Curry</td>\n",
       "      <td>Pack</td>\n",
       "      <td>India</td>\n",
       "      <td>3.75</td>\n",
       "      <td>NaN</td>\n",
       "    </tr>\n",
       "  </tbody>\n",
       "</table>\n",
       "</div>"
      ],
      "text/plain": [
       "   Review #           Brand  \\\n",
       "0      2580       New Touch   \n",
       "1      2579        Just Way   \n",
       "2      2578          Nissin   \n",
       "3      2577         Wei Lih   \n",
       "4      2576  Ching's Secret   \n",
       "\n",
       "                                             Variety Style Country Stars  \\\n",
       "0                          T's Restaurant Tantanmen    Cup   Japan  3.75   \n",
       "1  Noodles Spicy Hot Sesame Spicy Hot Sesame Guan...  Pack  Taiwan     1   \n",
       "2                      Cup Noodles Chicken Vegetable   Cup     USA  2.25   \n",
       "3                      GGE Ramen Snack Tomato Flavor  Pack  Taiwan  2.75   \n",
       "4                                    Singapore Curry  Pack   India  3.75   \n",
       "\n",
       "  Top Ten  \n",
       "0     NaN  \n",
       "1     NaN  \n",
       "2     NaN  \n",
       "3     NaN  \n",
       "4     NaN  "
      ]
     },
     "execution_count": 12,
     "metadata": {},
     "output_type": "execute_result"
    }
   ],
   "source": [
    "df_ramen = pd.read_csv('ramen-ratings.csv')\n",
    "df_ramen.head()"
   ]
  },
  {
   "cell_type": "code",
   "execution_count": 16,
   "id": "9530986f",
   "metadata": {},
   "outputs": [
    {
     "data": {
      "text/plain": [
       "0            New Touch\n",
       "1             Just Way\n",
       "2               Nissin\n",
       "3              Wei Lih\n",
       "4       Ching's Secret\n",
       "             ...      \n",
       "2575             Vifon\n",
       "2576           Wai Wai\n",
       "2577           Wai Wai\n",
       "2578           Wai Wai\n",
       "2579          Westbrae\n",
       "Name: Brand, Length: 2580, dtype: object"
      ]
     },
     "execution_count": 16,
     "metadata": {},
     "output_type": "execute_result"
    }
   ],
   "source": [
    "# indexing operator as series\n",
    "df_ramen['Brand']"
   ]
  },
  {
   "cell_type": "code",
   "execution_count": 17,
   "id": "bca8a56b",
   "metadata": {},
   "outputs": [
    {
     "data": {
      "text/html": [
       "<div>\n",
       "<style scoped>\n",
       "    .dataframe tbody tr th:only-of-type {\n",
       "        vertical-align: middle;\n",
       "    }\n",
       "\n",
       "    .dataframe tbody tr th {\n",
       "        vertical-align: top;\n",
       "    }\n",
       "\n",
       "    .dataframe thead th {\n",
       "        text-align: right;\n",
       "    }\n",
       "</style>\n",
       "<table border=\"1\" class=\"dataframe\">\n",
       "  <thead>\n",
       "    <tr style=\"text-align: right;\">\n",
       "      <th></th>\n",
       "      <th>Brand</th>\n",
       "    </tr>\n",
       "  </thead>\n",
       "  <tbody>\n",
       "    <tr>\n",
       "      <th>0</th>\n",
       "      <td>New Touch</td>\n",
       "    </tr>\n",
       "    <tr>\n",
       "      <th>1</th>\n",
       "      <td>Just Way</td>\n",
       "    </tr>\n",
       "    <tr>\n",
       "      <th>2</th>\n",
       "      <td>Nissin</td>\n",
       "    </tr>\n",
       "    <tr>\n",
       "      <th>3</th>\n",
       "      <td>Wei Lih</td>\n",
       "    </tr>\n",
       "    <tr>\n",
       "      <th>4</th>\n",
       "      <td>Ching's Secret</td>\n",
       "    </tr>\n",
       "  </tbody>\n",
       "</table>\n",
       "</div>"
      ],
      "text/plain": [
       "            Brand\n",
       "0       New Touch\n",
       "1        Just Way\n",
       "2          Nissin\n",
       "3         Wei Lih\n",
       "4  Ching's Secret"
      ]
     },
     "execution_count": 17,
     "metadata": {},
     "output_type": "execute_result"
    }
   ],
   "source": [
    "df_ramen[['Brand']].head()"
   ]
  },
  {
   "cell_type": "code",
   "execution_count": 18,
   "id": "853f53a2",
   "metadata": {},
   "outputs": [
    {
     "data": {
      "text/plain": [
       "0            New Touch\n",
       "1             Just Way\n",
       "2               Nissin\n",
       "3              Wei Lih\n",
       "4       Ching's Secret\n",
       "             ...      \n",
       "2575             Vifon\n",
       "2576           Wai Wai\n",
       "2577           Wai Wai\n",
       "2578           Wai Wai\n",
       "2579          Westbrae\n",
       "Name: Brand, Length: 2580, dtype: object"
      ]
     },
     "execution_count": 18,
     "metadata": {},
     "output_type": "execute_result"
    }
   ],
   "source": [
    "df_ramen.Brand"
   ]
  },
  {
   "cell_type": "code",
   "execution_count": 20,
   "id": "01042cbf",
   "metadata": {},
   "outputs": [
    {
     "data": {
      "text/html": [
       "<div>\n",
       "<style scoped>\n",
       "    .dataframe tbody tr th:only-of-type {\n",
       "        vertical-align: middle;\n",
       "    }\n",
       "\n",
       "    .dataframe tbody tr th {\n",
       "        vertical-align: top;\n",
       "    }\n",
       "\n",
       "    .dataframe thead th {\n",
       "        text-align: right;\n",
       "    }\n",
       "</style>\n",
       "<table border=\"1\" class=\"dataframe\">\n",
       "  <thead>\n",
       "    <tr style=\"text-align: right;\">\n",
       "      <th></th>\n",
       "      <th>Country</th>\n",
       "      <th>Stars</th>\n",
       "    </tr>\n",
       "  </thead>\n",
       "  <tbody>\n",
       "    <tr>\n",
       "      <th>0</th>\n",
       "      <td>Japan</td>\n",
       "      <td>3.75</td>\n",
       "    </tr>\n",
       "    <tr>\n",
       "      <th>1</th>\n",
       "      <td>Taiwan</td>\n",
       "      <td>1</td>\n",
       "    </tr>\n",
       "    <tr>\n",
       "      <th>2</th>\n",
       "      <td>USA</td>\n",
       "      <td>2.25</td>\n",
       "    </tr>\n",
       "    <tr>\n",
       "      <th>3</th>\n",
       "      <td>Taiwan</td>\n",
       "      <td>2.75</td>\n",
       "    </tr>\n",
       "    <tr>\n",
       "      <th>4</th>\n",
       "      <td>India</td>\n",
       "      <td>3.75</td>\n",
       "    </tr>\n",
       "  </tbody>\n",
       "</table>\n",
       "</div>"
      ],
      "text/plain": [
       "  Country Stars\n",
       "0   Japan  3.75\n",
       "1  Taiwan     1\n",
       "2     USA  2.25\n",
       "3  Taiwan  2.75\n",
       "4   India  3.75"
      ]
     },
     "execution_count": 20,
     "metadata": {},
     "output_type": "execute_result"
    }
   ],
   "source": [
    "# indexing using .loc\n",
    "df_ramen.loc[:, ['Country', 'Stars']].head()"
   ]
  },
  {
   "cell_type": "code",
   "execution_count": 21,
   "id": "aaf44c43",
   "metadata": {},
   "outputs": [
    {
     "data": {
      "text/html": [
       "<div>\n",
       "<style scoped>\n",
       "    .dataframe tbody tr th:only-of-type {\n",
       "        vertical-align: middle;\n",
       "    }\n",
       "\n",
       "    .dataframe tbody tr th {\n",
       "        vertical-align: top;\n",
       "    }\n",
       "\n",
       "    .dataframe thead th {\n",
       "        text-align: right;\n",
       "    }\n",
       "</style>\n",
       "<table border=\"1\" class=\"dataframe\">\n",
       "  <thead>\n",
       "    <tr style=\"text-align: right;\">\n",
       "      <th></th>\n",
       "      <th>Country</th>\n",
       "      <th>Stars</th>\n",
       "    </tr>\n",
       "  </thead>\n",
       "  <tbody>\n",
       "    <tr>\n",
       "      <th>0</th>\n",
       "      <td>Japan</td>\n",
       "      <td>3.75</td>\n",
       "    </tr>\n",
       "    <tr>\n",
       "      <th>1</th>\n",
       "      <td>Taiwan</td>\n",
       "      <td>1</td>\n",
       "    </tr>\n",
       "    <tr>\n",
       "      <th>2</th>\n",
       "      <td>USA</td>\n",
       "      <td>2.25</td>\n",
       "    </tr>\n",
       "    <tr>\n",
       "      <th>3</th>\n",
       "      <td>Taiwan</td>\n",
       "      <td>2.75</td>\n",
       "    </tr>\n",
       "    <tr>\n",
       "      <th>4</th>\n",
       "      <td>India</td>\n",
       "      <td>3.75</td>\n",
       "    </tr>\n",
       "  </tbody>\n",
       "</table>\n",
       "</div>"
      ],
      "text/plain": [
       "  Country Stars\n",
       "0   Japan  3.75\n",
       "1  Taiwan     1\n",
       "2     USA  2.25\n",
       "3  Taiwan  2.75\n",
       "4   India  3.75"
      ]
     },
     "execution_count": 21,
     "metadata": {},
     "output_type": "execute_result"
    }
   ],
   "source": [
    "#indexing using .iloc\n",
    "df_ramen.iloc[:, [4,5]].head()"
   ]
  },
  {
   "cell_type": "markdown",
   "id": "785abefd",
   "metadata": {},
   "source": [
    "## Filtering DataFrame with Boolean\n",
    "- Dapat dibilang kalau filtering dataframe dengan boolean is more human. karena kita mengakses suatu data berdasarkan logika dan dapat kita masukan ke dalam suatu statement, sebagai contoh, ‘Ambilkan data yang memiliki nilai luas lebih dari 50’. ketika mengubahnya kedalam suatu kode python ckup dengan menuliskan df>50. maka akan menghasillkan sua tu data Boolean Series berisi Ya (True) dan Tidak (False)."
   ]
  },
  {
   "cell_type": "code",
   "execution_count": 23,
   "id": "57aa4a0d",
   "metadata": {},
   "outputs": [
    {
     "data": {
      "text/html": [
       "<div>\n",
       "<style scoped>\n",
       "    .dataframe tbody tr th:only-of-type {\n",
       "        vertical-align: middle;\n",
       "    }\n",
       "\n",
       "    .dataframe tbody tr th {\n",
       "        vertical-align: top;\n",
       "    }\n",
       "\n",
       "    .dataframe thead th {\n",
       "        text-align: right;\n",
       "    }\n",
       "</style>\n",
       "<table border=\"1\" class=\"dataframe\">\n",
       "  <thead>\n",
       "    <tr style=\"text-align: right;\">\n",
       "      <th></th>\n",
       "      <th>Name</th>\n",
       "      <th>PClass</th>\n",
       "      <th>Age</th>\n",
       "      <th>Sex</th>\n",
       "      <th>Survived</th>\n",
       "    </tr>\n",
       "  </thead>\n",
       "  <tbody>\n",
       "    <tr>\n",
       "      <th>0</th>\n",
       "      <td>Allen, Miss Elisabeth Walton</td>\n",
       "      <td>1st</td>\n",
       "      <td>29.00</td>\n",
       "      <td>female</td>\n",
       "      <td>1</td>\n",
       "    </tr>\n",
       "    <tr>\n",
       "      <th>1</th>\n",
       "      <td>Allison, Miss Helen Loraine</td>\n",
       "      <td>1st</td>\n",
       "      <td>2.00</td>\n",
       "      <td>female</td>\n",
       "      <td>0</td>\n",
       "    </tr>\n",
       "    <tr>\n",
       "      <th>2</th>\n",
       "      <td>Allison, Mr Hudson Joshua Creighton</td>\n",
       "      <td>1st</td>\n",
       "      <td>30.00</td>\n",
       "      <td>male</td>\n",
       "      <td>0</td>\n",
       "    </tr>\n",
       "    <tr>\n",
       "      <th>3</th>\n",
       "      <td>Allison, Mrs Hudson JC (Bessie Waldo Daniels)</td>\n",
       "      <td>1st</td>\n",
       "      <td>25.00</td>\n",
       "      <td>female</td>\n",
       "      <td>0</td>\n",
       "    </tr>\n",
       "    <tr>\n",
       "      <th>4</th>\n",
       "      <td>Allison, Master Hudson Trevor</td>\n",
       "      <td>1st</td>\n",
       "      <td>0.92</td>\n",
       "      <td>male</td>\n",
       "      <td>1</td>\n",
       "    </tr>\n",
       "  </tbody>\n",
       "</table>\n",
       "</div>"
      ],
      "text/plain": [
       "                                            Name PClass    Age     Sex  \\\n",
       "0                   Allen, Miss Elisabeth Walton    1st  29.00  female   \n",
       "1                    Allison, Miss Helen Loraine    1st   2.00  female   \n",
       "2            Allison, Mr Hudson Joshua Creighton    1st  30.00    male   \n",
       "3  Allison, Mrs Hudson JC (Bessie Waldo Daniels)    1st  25.00  female   \n",
       "4                  Allison, Master Hudson Trevor    1st   0.92    male   \n",
       "\n",
       "   Survived  \n",
       "0         1  \n",
       "1         0  \n",
       "2         0  \n",
       "3         0  \n",
       "4         1  "
      ]
     },
     "execution_count": 23,
     "metadata": {},
     "output_type": "execute_result"
    }
   ],
   "source": [
    "df = pd.read_csv('Titanic.csv')\n",
    "\n",
    "df.head()"
   ]
  },
  {
   "cell_type": "code",
   "execution_count": 27,
   "id": "f71239a7",
   "metadata": {},
   "outputs": [
    {
     "name": "stdout",
     "output_type": "stream",
     "text": [
      "0        True\n",
      "1       False\n",
      "2       False\n",
      "3       False\n",
      "4        True\n",
      "        ...  \n",
      "1308    False\n",
      "1309    False\n",
      "1310    False\n",
      "1311    False\n",
      "1312    False\n",
      "Name: Survived, Length: 1313, dtype: bool\n"
     ]
    }
   ],
   "source": [
    "# boolean series orang orang yang selamat\n",
    "survived = df['Survived'] == 1\n",
    "print(survived)"
   ]
  },
  {
   "cell_type": "code",
   "execution_count": 28,
   "id": "fb010af7",
   "metadata": {},
   "outputs": [
    {
     "data": {
      "text/html": [
       "<div>\n",
       "<style scoped>\n",
       "    .dataframe tbody tr th:only-of-type {\n",
       "        vertical-align: middle;\n",
       "    }\n",
       "\n",
       "    .dataframe tbody tr th {\n",
       "        vertical-align: top;\n",
       "    }\n",
       "\n",
       "    .dataframe thead th {\n",
       "        text-align: right;\n",
       "    }\n",
       "</style>\n",
       "<table border=\"1\" class=\"dataframe\">\n",
       "  <thead>\n",
       "    <tr style=\"text-align: right;\">\n",
       "      <th></th>\n",
       "      <th>Name</th>\n",
       "      <th>PClass</th>\n",
       "      <th>Age</th>\n",
       "      <th>Sex</th>\n",
       "      <th>Survived</th>\n",
       "    </tr>\n",
       "  </thead>\n",
       "  <tbody>\n",
       "    <tr>\n",
       "      <th>0</th>\n",
       "      <td>Allen, Miss Elisabeth Walton</td>\n",
       "      <td>1st</td>\n",
       "      <td>29.00</td>\n",
       "      <td>female</td>\n",
       "      <td>1</td>\n",
       "    </tr>\n",
       "    <tr>\n",
       "      <th>4</th>\n",
       "      <td>Allison, Master Hudson Trevor</td>\n",
       "      <td>1st</td>\n",
       "      <td>0.92</td>\n",
       "      <td>male</td>\n",
       "      <td>1</td>\n",
       "    </tr>\n",
       "    <tr>\n",
       "      <th>5</th>\n",
       "      <td>Anderson, Mr Harry</td>\n",
       "      <td>1st</td>\n",
       "      <td>47.00</td>\n",
       "      <td>male</td>\n",
       "      <td>1</td>\n",
       "    </tr>\n",
       "    <tr>\n",
       "      <th>6</th>\n",
       "      <td>Andrews, Miss Kornelia Theodosia</td>\n",
       "      <td>1st</td>\n",
       "      <td>63.00</td>\n",
       "      <td>female</td>\n",
       "      <td>1</td>\n",
       "    </tr>\n",
       "    <tr>\n",
       "      <th>8</th>\n",
       "      <td>Appleton, Mrs Edward Dale (Charlotte Lamson)</td>\n",
       "      <td>1st</td>\n",
       "      <td>58.00</td>\n",
       "      <td>female</td>\n",
       "      <td>1</td>\n",
       "    </tr>\n",
       "    <tr>\n",
       "      <th>...</th>\n",
       "      <td>...</td>\n",
       "      <td>...</td>\n",
       "      <td>...</td>\n",
       "      <td>...</td>\n",
       "      <td>...</td>\n",
       "    </tr>\n",
       "    <tr>\n",
       "      <th>1279</th>\n",
       "      <td>Vartunian, Mr David</td>\n",
       "      <td>3rd</td>\n",
       "      <td>22.00</td>\n",
       "      <td>male</td>\n",
       "      <td>1</td>\n",
       "    </tr>\n",
       "    <tr>\n",
       "      <th>1289</th>\n",
       "      <td>Wennerstrom, Mr August Edvard</td>\n",
       "      <td>3rd</td>\n",
       "      <td>NaN</td>\n",
       "      <td>male</td>\n",
       "      <td>1</td>\n",
       "    </tr>\n",
       "    <tr>\n",
       "      <th>1293</th>\n",
       "      <td>Wilkes, Mrs Ellen</td>\n",
       "      <td>3rd</td>\n",
       "      <td>45.00</td>\n",
       "      <td>female</td>\n",
       "      <td>1</td>\n",
       "    </tr>\n",
       "    <tr>\n",
       "      <th>1302</th>\n",
       "      <td>Yalsevac, Mr Ivan</td>\n",
       "      <td>3rd</td>\n",
       "      <td>NaN</td>\n",
       "      <td>male</td>\n",
       "      <td>1</td>\n",
       "    </tr>\n",
       "    <tr>\n",
       "      <th>1304</th>\n",
       "      <td>Yasbeck, Mrs Antoni</td>\n",
       "      <td>3rd</td>\n",
       "      <td>15.00</td>\n",
       "      <td>female</td>\n",
       "      <td>1</td>\n",
       "    </tr>\n",
       "  </tbody>\n",
       "</table>\n",
       "<p>450 rows × 5 columns</p>\n",
       "</div>"
      ],
      "text/plain": [
       "                                              Name PClass    Age     Sex  \\\n",
       "0                     Allen, Miss Elisabeth Walton    1st  29.00  female   \n",
       "4                    Allison, Master Hudson Trevor    1st   0.92    male   \n",
       "5                               Anderson, Mr Harry    1st  47.00    male   \n",
       "6                 Andrews, Miss Kornelia Theodosia    1st  63.00  female   \n",
       "8     Appleton, Mrs Edward Dale (Charlotte Lamson)    1st  58.00  female   \n",
       "...                                            ...    ...    ...     ...   \n",
       "1279                           Vartunian, Mr David    3rd  22.00    male   \n",
       "1289                 Wennerstrom, Mr August Edvard    3rd    NaN    male   \n",
       "1293                             Wilkes, Mrs Ellen    3rd  45.00  female   \n",
       "1302                             Yalsevac, Mr Ivan    3rd    NaN    male   \n",
       "1304                           Yasbeck, Mrs Antoni    3rd  15.00  female   \n",
       "\n",
       "      Survived  \n",
       "0            1  \n",
       "4            1  \n",
       "5            1  \n",
       "6            1  \n",
       "8            1  \n",
       "...        ...  \n",
       "1279         1  \n",
       "1289         1  \n",
       "1293         1  \n",
       "1302         1  \n",
       "1304         1  \n",
       "\n",
       "[450 rows x 5 columns]"
      ]
     },
     "execution_count": 28,
     "metadata": {},
     "output_type": "execute_result"
    }
   ],
   "source": [
    "df[survived]"
   ]
  },
  {
   "cell_type": "markdown",
   "id": "6f48f6a8",
   "metadata": {},
   "source": [
    "### 2. Data laki-laki yang selamat\n",
    "- Seperti biasa kita buat terlebih dahulu boolean series nya, kali ini kita membuat 2 boolean series. yaitu boolean series orang yang selamat dan bolean series orang yang berjenis kelamin laki-laki. berikut caranya\n"
   ]
  },
  {
   "cell_type": "code",
   "execution_count": 33,
   "id": "25d4db04",
   "metadata": {},
   "outputs": [
    {
     "name": "stdout",
     "output_type": "stream",
     "text": [
      "0       False\n",
      "1       False\n",
      "2        True\n",
      "3       False\n",
      "4        True\n",
      "        ...  \n",
      "1308     True\n",
      "1309     True\n",
      "1310     True\n",
      "1311     True\n",
      "1312     True\n",
      "Name: Sex, Length: 1313, dtype: bool\n"
     ]
    }
   ],
   "source": [
    "# bolean series orang yang selamat\n",
    "survived = df['Survived'] == 1\n",
    "# boolean series laki-laki\n",
    "laki2 = df['Sex'] == 'male'\n",
    "print(laki2)"
   ]
  },
  {
   "cell_type": "code",
   "execution_count": 34,
   "id": "473e49c6",
   "metadata": {},
   "outputs": [
    {
     "name": "stdout",
     "output_type": "stream",
     "text": [
      "                               Name PClass    Age   Sex  Survived\n",
      "4     Allison, Master Hudson Trevor    1st   0.92  male         1\n",
      "5                Anderson, Mr Harry    1st  47.00  male         1\n",
      "13         Barkworth, Mr Algernon H    1st    NaN  male         1\n",
      "18       Beckwith, Mr Richard Leord    1st  37.00  male         1\n",
      "20             Behr, Mr Karl Howell    1st  26.00  male         1\n",
      "...                             ...    ...    ...   ...       ...\n",
      "1242        Tenglin, Mr Gunr Isidor    3rd    NaN  male         1\n",
      "1258    Tornquist, Mr William Henry    3rd  25.00  male         1\n",
      "1279            Vartunian, Mr David    3rd  22.00  male         1\n",
      "1289  Wennerstrom, Mr August Edvard    3rd    NaN  male         1\n",
      "1302              Yalsevac, Mr Ivan    3rd    NaN  male         1\n",
      "\n",
      "[142 rows x 5 columns]\n"
     ]
    }
   ],
   "source": [
    "print(df[(survived) & (laki2)])"
   ]
  },
  {
   "cell_type": "markdown",
   "id": "62b4ad76",
   "metadata": {},
   "source": [
    "## 3. Data Perempuan yang tidak selamat dengan umur lebih dari 40 tahun atau kurang dari 20 tahun.\n",
    "- Coba perhatikan ada berapa boolean series yang perlu kita buat. disini ada 4 boolean series yang perlu kita buat, yaitu orang yang tidak selamat, orang yang berjnis kelamin perempuan, orang yang berumur lebih dari 40 tahun, dan orang yang kurang dari 20 tahun. jadi mari kita buat boolean series nya."
   ]
  },
  {
   "cell_type": "code",
   "execution_count": 36,
   "id": "fc975923",
   "metadata": {},
   "outputs": [],
   "source": [
    "# orang yang tidak selamat\n",
    "not_survived = df['Survived'] == 0\n",
    "\n",
    "# orang berjnis kelamin perempuan\n",
    "perempuan = df['Sex'] == 'female'\n",
    "\n",
    "# orang yang berumur lebih dari 40 tahun\n",
    "lebih_40 = df['Age'] > 40\n",
    "\n",
    "# orang yang berumur kurang dari 20 tahun\n",
    "kurang_20 = df['Age'] < 20"
   ]
  },
  {
   "cell_type": "code",
   "execution_count": 37,
   "id": "c5847105",
   "metadata": {},
   "outputs": [
    {
     "data": {
      "text/html": [
       "<div>\n",
       "<style scoped>\n",
       "    .dataframe tbody tr th:only-of-type {\n",
       "        vertical-align: middle;\n",
       "    }\n",
       "\n",
       "    .dataframe tbody tr th {\n",
       "        vertical-align: top;\n",
       "    }\n",
       "\n",
       "    .dataframe thead th {\n",
       "        text-align: right;\n",
       "    }\n",
       "</style>\n",
       "<table border=\"1\" class=\"dataframe\">\n",
       "  <thead>\n",
       "    <tr style=\"text-align: right;\">\n",
       "      <th></th>\n",
       "      <th>Name</th>\n",
       "      <th>PClass</th>\n",
       "      <th>Age</th>\n",
       "      <th>Sex</th>\n",
       "      <th>Survived</th>\n",
       "    </tr>\n",
       "  </thead>\n",
       "  <tbody>\n",
       "    <tr>\n",
       "      <th>1</th>\n",
       "      <td>Allison, Miss Helen Loraine</td>\n",
       "      <td>1st</td>\n",
       "      <td>2.0</td>\n",
       "      <td>female</td>\n",
       "      <td>0</td>\n",
       "    </tr>\n",
       "    <tr>\n",
       "      <th>149</th>\n",
       "      <td>Isham, Miss Anne Elizabeth</td>\n",
       "      <td>1st</td>\n",
       "      <td>50.0</td>\n",
       "      <td>female</td>\n",
       "      <td>0</td>\n",
       "    </tr>\n",
       "    <tr>\n",
       "      <th>253</th>\n",
       "      <td>Straus, Mrs Isidor (Ida Blun)</td>\n",
       "      <td>1st</td>\n",
       "      <td>63.0</td>\n",
       "      <td>female</td>\n",
       "      <td>0</td>\n",
       "    </tr>\n",
       "    <tr>\n",
       "      <th>363</th>\n",
       "      <td>Carter, Mrs Ernest Courtey (Lillian Hughes)</td>\n",
       "      <td>2nd</td>\n",
       "      <td>44.0</td>\n",
       "      <td>female</td>\n",
       "      <td>0</td>\n",
       "    </tr>\n",
       "    <tr>\n",
       "      <th>442</th>\n",
       "      <td>Hiltunen, Miss Marta</td>\n",
       "      <td>2nd</td>\n",
       "      <td>18.0</td>\n",
       "      <td>female</td>\n",
       "      <td>0</td>\n",
       "    </tr>\n",
       "    <tr>\n",
       "      <th>487</th>\n",
       "      <td>Mack, Mrs Mary</td>\n",
       "      <td>2nd</td>\n",
       "      <td>57.0</td>\n",
       "      <td>female</td>\n",
       "      <td>0</td>\n",
       "    </tr>\n",
       "    <tr>\n",
       "      <th>626</th>\n",
       "      <td>Andersson, Miss Ebba Iris</td>\n",
       "      <td>3rd</td>\n",
       "      <td>6.0</td>\n",
       "      <td>female</td>\n",
       "      <td>0</td>\n",
       "    </tr>\n",
       "    <tr>\n",
       "      <th>627</th>\n",
       "      <td>Andersson, Miss Ellis An Maria</td>\n",
       "      <td>3rd</td>\n",
       "      <td>2.0</td>\n",
       "      <td>female</td>\n",
       "      <td>0</td>\n",
       "    </tr>\n",
       "    <tr>\n",
       "      <th>630</th>\n",
       "      <td>Andersson, Miss Ingeborg Constancia</td>\n",
       "      <td>3rd</td>\n",
       "      <td>9.0</td>\n",
       "      <td>female</td>\n",
       "      <td>0</td>\n",
       "    </tr>\n",
       "    <tr>\n",
       "      <th>632</th>\n",
       "      <td>Andersson, Miss Sigrid Elizabeth</td>\n",
       "      <td>3rd</td>\n",
       "      <td>11.0</td>\n",
       "      <td>female</td>\n",
       "      <td>0</td>\n",
       "    </tr>\n",
       "    <tr>\n",
       "      <th>637</th>\n",
       "      <td>Arnold, Mrs Josef (Josephine Frank)</td>\n",
       "      <td>3rd</td>\n",
       "      <td>18.0</td>\n",
       "      <td>female</td>\n",
       "      <td>0</td>\n",
       "    </tr>\n",
       "    <tr>\n",
       "      <th>651</th>\n",
       "      <td>Attalah, Miss Malaka</td>\n",
       "      <td>3rd</td>\n",
       "      <td>17.0</td>\n",
       "      <td>female</td>\n",
       "      <td>0</td>\n",
       "    </tr>\n",
       "    <tr>\n",
       "      <th>665</th>\n",
       "      <td>Barbara, Mrs Catherine</td>\n",
       "      <td>3rd</td>\n",
       "      <td>45.0</td>\n",
       "      <td>female</td>\n",
       "      <td>0</td>\n",
       "    </tr>\n",
       "    <tr>\n",
       "      <th>666</th>\n",
       "      <td>Barbara, Miss Saude</td>\n",
       "      <td>3rd</td>\n",
       "      <td>18.0</td>\n",
       "      <td>female</td>\n",
       "      <td>0</td>\n",
       "    </tr>\n",
       "    <tr>\n",
       "      <th>680</th>\n",
       "      <td>Boulos, Miss Laura</td>\n",
       "      <td>3rd</td>\n",
       "      <td>9.0</td>\n",
       "      <td>female</td>\n",
       "      <td>0</td>\n",
       "    </tr>\n",
       "    <tr>\n",
       "      <th>695</th>\n",
       "      <td>Burns, Miss Mary Delia</td>\n",
       "      <td>3rd</td>\n",
       "      <td>18.0</td>\n",
       "      <td>female</td>\n",
       "      <td>0</td>\n",
       "    </tr>\n",
       "    <tr>\n",
       "      <th>808</th>\n",
       "      <td>Ford, Miss Maggie</td>\n",
       "      <td>3rd</td>\n",
       "      <td>9.0</td>\n",
       "      <td>female</td>\n",
       "      <td>0</td>\n",
       "    </tr>\n",
       "    <tr>\n",
       "      <th>809</th>\n",
       "      <td>Ford, Mrs Edward (Margaret Ann)</td>\n",
       "      <td>3rd</td>\n",
       "      <td>48.0</td>\n",
       "      <td>female</td>\n",
       "      <td>0</td>\n",
       "    </tr>\n",
       "    <tr>\n",
       "      <th>825</th>\n",
       "      <td>Goodwin, Mrs Frederick (Augusta)</td>\n",
       "      <td>3rd</td>\n",
       "      <td>43.0</td>\n",
       "      <td>female</td>\n",
       "      <td>0</td>\n",
       "    </tr>\n",
       "    <tr>\n",
       "      <th>827</th>\n",
       "      <td>Goodwin, Miss Lillian A</td>\n",
       "      <td>3rd</td>\n",
       "      <td>16.0</td>\n",
       "      <td>female</td>\n",
       "      <td>0</td>\n",
       "    </tr>\n",
       "    <tr>\n",
       "      <th>829</th>\n",
       "      <td>Goodwin, Miss Jessie A</td>\n",
       "      <td>3rd</td>\n",
       "      <td>10.0</td>\n",
       "      <td>female</td>\n",
       "      <td>0</td>\n",
       "    </tr>\n",
       "    <tr>\n",
       "      <th>840</th>\n",
       "      <td>Hagardon, Miss Kate</td>\n",
       "      <td>3rd</td>\n",
       "      <td>17.0</td>\n",
       "      <td>female</td>\n",
       "      <td>0</td>\n",
       "    </tr>\n",
       "    <tr>\n",
       "      <th>857</th>\n",
       "      <td>Hegarty, Miss Nora</td>\n",
       "      <td>3rd</td>\n",
       "      <td>18.0</td>\n",
       "      <td>female</td>\n",
       "      <td>0</td>\n",
       "    </tr>\n",
       "    <tr>\n",
       "      <th>866</th>\n",
       "      <td>Hirvonen, Miss Hildur E</td>\n",
       "      <td>3rd</td>\n",
       "      <td>2.0</td>\n",
       "      <td>female</td>\n",
       "      <td>0</td>\n",
       "    </tr>\n",
       "    <tr>\n",
       "      <th>936</th>\n",
       "      <td>Klasen, Miss Gertrud Emilia</td>\n",
       "      <td>3rd</td>\n",
       "      <td>1.5</td>\n",
       "      <td>female</td>\n",
       "      <td>0</td>\n",
       "    </tr>\n",
       "    <tr>\n",
       "      <th>965</th>\n",
       "      <td>Lindblom, Miss Augusta Charlotta</td>\n",
       "      <td>3rd</td>\n",
       "      <td>45.0</td>\n",
       "      <td>female</td>\n",
       "      <td>0</td>\n",
       "    </tr>\n",
       "    <tr>\n",
       "      <th>1188</th>\n",
       "      <td>Sandstrom, Miss Beatrice Irene</td>\n",
       "      <td>3rd</td>\n",
       "      <td>1.5</td>\n",
       "      <td>female</td>\n",
       "      <td>0</td>\n",
       "    </tr>\n",
       "    <tr>\n",
       "      <th>1269</th>\n",
       "      <td>Van der Planke, Miss Augusta</td>\n",
       "      <td>3rd</td>\n",
       "      <td>18.0</td>\n",
       "      <td>female</td>\n",
       "      <td>0</td>\n",
       "    </tr>\n",
       "    <tr>\n",
       "      <th>1276</th>\n",
       "      <td>Van Impe, Miss Catharine</td>\n",
       "      <td>3rd</td>\n",
       "      <td>10.0</td>\n",
       "      <td>female</td>\n",
       "      <td>0</td>\n",
       "    </tr>\n",
       "    <tr>\n",
       "      <th>1283</th>\n",
       "      <td>Vestrom, Miss Hulda Amanda Adolfi</td>\n",
       "      <td>3rd</td>\n",
       "      <td>14.0</td>\n",
       "      <td>female</td>\n",
       "      <td>0</td>\n",
       "    </tr>\n",
       "  </tbody>\n",
       "</table>\n",
       "</div>"
      ],
      "text/plain": [
       "                                             Name PClass   Age     Sex  \\\n",
       "1                     Allison, Miss Helen Loraine    1st   2.0  female   \n",
       "149                    Isham, Miss Anne Elizabeth    1st  50.0  female   \n",
       "253                 Straus, Mrs Isidor (Ida Blun)    1st  63.0  female   \n",
       "363   Carter, Mrs Ernest Courtey (Lillian Hughes)    2nd  44.0  female   \n",
       "442                          Hiltunen, Miss Marta    2nd  18.0  female   \n",
       "487                                Mack, Mrs Mary    2nd  57.0  female   \n",
       "626                     Andersson, Miss Ebba Iris    3rd   6.0  female   \n",
       "627                Andersson, Miss Ellis An Maria    3rd   2.0  female   \n",
       "630           Andersson, Miss Ingeborg Constancia    3rd   9.0  female   \n",
       "632              Andersson, Miss Sigrid Elizabeth    3rd  11.0  female   \n",
       "637           Arnold, Mrs Josef (Josephine Frank)    3rd  18.0  female   \n",
       "651                          Attalah, Miss Malaka    3rd  17.0  female   \n",
       "665                        Barbara, Mrs Catherine    3rd  45.0  female   \n",
       "666                           Barbara, Miss Saude    3rd  18.0  female   \n",
       "680                            Boulos, Miss Laura    3rd   9.0  female   \n",
       "695                        Burns, Miss Mary Delia    3rd  18.0  female   \n",
       "808                             Ford, Miss Maggie    3rd   9.0  female   \n",
       "809               Ford, Mrs Edward (Margaret Ann)    3rd  48.0  female   \n",
       "825              Goodwin, Mrs Frederick (Augusta)    3rd  43.0  female   \n",
       "827                       Goodwin, Miss Lillian A    3rd  16.0  female   \n",
       "829                        Goodwin, Miss Jessie A    3rd  10.0  female   \n",
       "840                           Hagardon, Miss Kate    3rd  17.0  female   \n",
       "857                            Hegarty, Miss Nora    3rd  18.0  female   \n",
       "866                       Hirvonen, Miss Hildur E    3rd   2.0  female   \n",
       "936                   Klasen, Miss Gertrud Emilia    3rd   1.5  female   \n",
       "965              Lindblom, Miss Augusta Charlotta    3rd  45.0  female   \n",
       "1188               Sandstrom, Miss Beatrice Irene    3rd   1.5  female   \n",
       "1269                 Van der Planke, Miss Augusta    3rd  18.0  female   \n",
       "1276                     Van Impe, Miss Catharine    3rd  10.0  female   \n",
       "1283            Vestrom, Miss Hulda Amanda Adolfi    3rd  14.0  female   \n",
       "\n",
       "      Survived  \n",
       "1            0  \n",
       "149          0  \n",
       "253          0  \n",
       "363          0  \n",
       "442          0  \n",
       "487          0  \n",
       "626          0  \n",
       "627          0  \n",
       "630          0  \n",
       "632          0  \n",
       "637          0  \n",
       "651          0  \n",
       "665          0  \n",
       "666          0  \n",
       "680          0  \n",
       "695          0  \n",
       "808          0  \n",
       "809          0  \n",
       "825          0  \n",
       "827          0  \n",
       "829          0  \n",
       "840          0  \n",
       "857          0  \n",
       "866          0  \n",
       "936          0  \n",
       "965          0  \n",
       "1188         0  \n",
       "1269         0  \n",
       "1276         0  \n",
       "1283         0  "
      ]
     },
     "execution_count": 37,
     "metadata": {},
     "output_type": "execute_result"
    }
   ],
   "source": [
    "df[(not_survived) & (perempuan) & (lebih_40 | kurang_20)]"
   ]
  },
  {
   "cell_type": "markdown",
   "id": "84144d53",
   "metadata": {},
   "source": [
    "## Data Transformation\n",
    "- Data transformasi adalah mengubah format data kepada suatu format yang kita inginkan. didalam matematika dikenal dengan istilah mapping. dalam melakukan transformasi kita memerlukan terlebih dahulu suatu fungsi yang dapat memetakan bentuk data awal kita menjadi bentuk data akhir yang kita inginkan.\n",
    "\n"
   ]
  },
  {
   "cell_type": "code",
   "execution_count": 40,
   "id": "0d5b8b2b",
   "metadata": {},
   "outputs": [],
   "source": [
    "def minus_minimum(df):\n",
    "    return df - df.min()"
   ]
  },
  {
   "cell_type": "code",
   "execution_count": 42,
   "id": "6095e84c",
   "metadata": {},
   "outputs": [
    {
     "name": "stdout",
     "output_type": "stream",
     "text": [
      "0       29.00\n",
      "1        2.00\n",
      "2       30.00\n",
      "3       25.00\n",
      "4        0.92\n",
      "        ...  \n",
      "1308    27.00\n",
      "1309    26.00\n",
      "1310    22.00\n",
      "1311    24.00\n",
      "1312    29.00\n",
      "Name: Age, Length: 1313, dtype: float64\n"
     ]
    }
   ],
   "source": [
    "print(df.Age)"
   ]
  },
  {
   "cell_type": "code",
   "execution_count": 44,
   "id": "2b9654d3",
   "metadata": {},
   "outputs": [
    {
     "name": "stdout",
     "output_type": "stream",
     "text": [
      "        Age\n",
      "0     28.83\n",
      "1      1.83\n",
      "2     29.83\n",
      "3     24.83\n",
      "4      0.75\n",
      "...     ...\n",
      "1308  26.83\n",
      "1309  25.83\n",
      "1310  21.83\n",
      "1311  23.83\n",
      "1312  28.83\n",
      "\n",
      "[1313 rows x 1 columns]\n"
     ]
    }
   ],
   "source": [
    "print(df[['Age']].apply(minus_minimum))"
   ]
  },
  {
   "cell_type": "code",
   "execution_count": null,
   "id": "c0a0864b",
   "metadata": {},
   "outputs": [],
   "source": []
  }
 ],
 "metadata": {
  "kernelspec": {
   "display_name": "Python 3 (ipykernel)",
   "language": "python",
   "name": "python3"
  },
  "language_info": {
   "codemirror_mode": {
    "name": "ipython",
    "version": 3
   },
   "file_extension": ".py",
   "mimetype": "text/x-python",
   "name": "python",
   "nbconvert_exporter": "python",
   "pygments_lexer": "ipython3",
   "version": "3.9.6"
  }
 },
 "nbformat": 4,
 "nbformat_minor": 5
}
