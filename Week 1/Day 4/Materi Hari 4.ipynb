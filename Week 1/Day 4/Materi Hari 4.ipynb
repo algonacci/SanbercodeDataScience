{
 "cells": [
  {
   "cell_type": "markdown",
   "id": "cb1755c8",
   "metadata": {},
   "source": [
    "## List"
   ]
  },
  {
   "cell_type": "code",
   "execution_count": 1,
   "id": "06cdab24",
   "metadata": {},
   "outputs": [],
   "source": [
    "suhu1 = 21\n",
    "suhu2 = 20\n",
    "suhu3 = 22\n",
    "\n",
    "suhu_keluarga = [suhu1, suhu2, suhu3]"
   ]
  },
  {
   "cell_type": "code",
   "execution_count": 13,
   "id": "b53d0d4e",
   "metadata": {},
   "outputs": [],
   "source": [
    "# membuat list\n",
    "suhu_keluarga_ucup = [\n",
    "                'ayah ucup', 19, 'ucup', 19, 'ibu ucup', 20\n",
    "                ]\n",
    "suhu_keluarga_boy = [\n",
    "                'istri boy', 20, 'anak boy', 18, 'istri kedua boy', 21\n",
    "                ]\n",
    "\n",
    "# membuat list dalam list dan di campur dengan data boolean\n",
    "suhu_keluarga = [\n",
    "                suhu_keluarga_ucup, suhu_keluarga_boy, True\n",
    "                ]"
   ]
  },
  {
   "cell_type": "code",
   "execution_count": 3,
   "id": "95917ad6",
   "metadata": {},
   "outputs": [
    {
     "name": "stdout",
     "output_type": "stream",
     "text": [
      "162\n",
      "150\n"
     ]
    }
   ],
   "source": [
    "# Membuat data list\n",
    "tinggi_badan = [\n",
    "                162, # index 0 \n",
    "                177, # index 1\n",
    "                182, # index 2\n",
    "                150, # index 3\n",
    "                166 # index 4\n",
    "                ]\n",
    "\n",
    "print(tinggi_badan[0]) # posisi pertama\n",
    "print(tinggi_badan[-2]) # posis kedua dari belakang"
   ]
  },
  {
   "cell_type": "code",
   "execution_count": 4,
   "id": "d3df91aa",
   "metadata": {},
   "outputs": [
    {
     "name": "stdout",
     "output_type": "stream",
     "text": [
      "[162, 177, 182, 150]\n",
      "[182, 150, 166]\n"
     ]
    }
   ],
   "source": [
    "# Slicinglist\n",
    "# Mengambil data dengan index 0, 1, 2, 3\n",
    "print(tinggi_badan[:4]) \n",
    "# Mengambil data dengan index 2, 3, 4\n",
    "print(tinggi_badan[2:5])"
   ]
  },
  {
   "cell_type": "code",
   "execution_count": 5,
   "id": "5852baf9",
   "metadata": {},
   "outputs": [
    {
     "name": "stdout",
     "output_type": "stream",
     "text": [
      "['ayah ucup', 19, 'ucup', 22, 'ibu ucup', 20]\n"
     ]
    }
   ],
   "source": [
    "suhu_keluarga_ucup[3] = 22\n",
    "print(suhu_keluarga_ucup)"
   ]
  },
  {
   "cell_type": "code",
   "execution_count": 6,
   "id": "8201cecb",
   "metadata": {},
   "outputs": [
    {
     "name": "stdout",
     "output_type": "stream",
     "text": [
      "['ayah ucup', 19, 'ucup', 22, 'mamah ucup', 22]\n"
     ]
    }
   ],
   "source": [
    "suhu_keluarga_ucup[-2:] = ['mamah ucup', 22]\n",
    "print(suhu_keluarga_ucup)"
   ]
  },
  {
   "cell_type": "code",
   "execution_count": 7,
   "id": "63e9659f",
   "metadata": {},
   "outputs": [
    {
     "name": "stdout",
     "output_type": "stream",
     "text": [
      "['ayah ucup', 19, 'ucup', 22, 'mamah ucup', 22, 'adik ucup', 20]\n"
     ]
    }
   ],
   "source": [
    "suhu_keluarga_ucup = suhu_keluarga_ucup + ['adik ucup', 20]\n",
    "\n",
    "print(suhu_keluarga_ucup)"
   ]
  },
  {
   "cell_type": "code",
   "execution_count": 9,
   "id": "ccbbf087",
   "metadata": {},
   "outputs": [
    {
     "name": "stdout",
     "output_type": "stream",
     "text": [
      "['Ayu', 'Bagus', 'Ahmad', 'Fajar', 'Cahyo', 'Ani', 'Rizky']\n"
     ]
    }
   ],
   "source": [
    "murid = ['Ayu', 'Bagus', 'Fajar', 'Cahyo', 'Ani']\n",
    "murid.append('Rizky')\n",
    "murid.insert(2, 'Ahmad')\n",
    "\n",
    "print(murid)"
   ]
  },
  {
   "cell_type": "code",
   "execution_count": 14,
   "id": "64f29832",
   "metadata": {},
   "outputs": [
    {
     "name": "stdout",
     "output_type": "stream",
     "text": [
      "['ayah ucup']\n"
     ]
    }
   ],
   "source": [
    "del(suhu_keluarga_ucup[1:])\n",
    "\n",
    "print(suhu_keluarga_ucup)"
   ]
  },
  {
   "cell_type": "code",
   "execution_count": 22,
   "id": "16afc8cc",
   "metadata": {},
   "outputs": [
    {
     "data": {
      "text/plain": [
       "['Ayu', 'Bagus', 'Cahyo', 'Ani']"
      ]
     },
     "execution_count": 22,
     "metadata": {},
     "output_type": "execute_result"
    }
   ],
   "source": [
    "murid = ['Ayu', 'Bagus', 'Fajar', 'Cahyo', 'Ani']\n",
    "murid.pop(2)\n",
    "\n",
    "murid"
   ]
  },
  {
   "cell_type": "code",
   "execution_count": 24,
   "id": "b194c55b",
   "metadata": {},
   "outputs": [
    {
     "data": {
      "text/plain": [
       "['Ayu', 'Bagus', 'Fajar']"
      ]
     },
     "execution_count": 24,
     "metadata": {},
     "output_type": "execute_result"
    }
   ],
   "source": [
    "murid.pop()\n",
    "\n",
    "murid"
   ]
  },
  {
   "cell_type": "code",
   "execution_count": 26,
   "id": "807aa34f",
   "metadata": {},
   "outputs": [
    {
     "data": {
      "text/plain": [
       "['Ayu', 'Bagus', 'Fajar', 'Ani']"
      ]
     },
     "execution_count": 26,
     "metadata": {},
     "output_type": "execute_result"
    }
   ],
   "source": [
    "murid = ['Ayu', 'Bagus', 'Fajar', 'Cahyo', 'Ani']\n",
    "murid.remove('Cahyo')\n",
    "\n",
    "murid"
   ]
  },
  {
   "cell_type": "code",
   "execution_count": 27,
   "id": "7f1073cd",
   "metadata": {},
   "outputs": [
    {
     "name": "stdout",
     "output_type": "stream",
     "text": [
      "5\n"
     ]
    }
   ],
   "source": [
    "keluarga_ucup = ['mamah', 'papah', 'ucup', 'adek ucup', 'kaka ucup']\n",
    "\n",
    "print(len(keluarga_ucup))"
   ]
  },
  {
   "cell_type": "code",
   "execution_count": 28,
   "id": "eee9d5d0",
   "metadata": {},
   "outputs": [
    {
     "name": "stdout",
     "output_type": "stream",
     "text": [
      "['adek ucup', 'kaka ucup', 'mamah', 'papah', 'ucup']\n"
     ]
    }
   ],
   "source": [
    "print(sorted(keluarga_ucup))"
   ]
  },
  {
   "cell_type": "code",
   "execution_count": 29,
   "id": "68801082",
   "metadata": {},
   "outputs": [
    {
     "name": "stdout",
     "output_type": "stream",
     "text": [
      "17\n"
     ]
    }
   ],
   "source": [
    "primes = [2, 3, 5, 7]\n",
    "\n",
    "print(sum(primes))"
   ]
  },
  {
   "cell_type": "code",
   "execution_count": 31,
   "id": "83151757",
   "metadata": {},
   "outputs": [
    {
     "name": "stdout",
     "output_type": "stream",
     "text": [
      "[1, 2, 3, 4, 5]\n",
      "[1, 2, 3, 4, 5]\n"
     ]
    }
   ],
   "source": [
    "a = [1,2,3,4,5]\n",
    "b = a.copy()\n",
    "\n",
    "print(a)\n",
    "print(b)"
   ]
  },
  {
   "cell_type": "code",
   "execution_count": 33,
   "id": "77250d7a",
   "metadata": {},
   "outputs": [
    {
     "name": "stdout",
     "output_type": "stream",
     "text": [
      "[1, 2, 3, 4, 5]\n",
      "[1, 2, 3, 4, 5, 6, 6]\n"
     ]
    }
   ],
   "source": [
    "b.append(6)\n",
    "\n",
    "print(a)\n",
    "print(b)"
   ]
  },
  {
   "cell_type": "code",
   "execution_count": 36,
   "id": "327bec61",
   "metadata": {},
   "outputs": [
    {
     "data": {
      "text/plain": [
       "[10, 8, 12]"
      ]
     },
     "execution_count": 36,
     "metadata": {},
     "output_type": "execute_result"
    }
   ],
   "source": [
    "number = [1,5,10,6,7,8,12]\n",
    "result = [i for i in number if i>7]\n",
    "\n",
    "result"
   ]
  },
  {
   "cell_type": "markdown",
   "id": "c767e25e",
   "metadata": {},
   "source": [
    "## Dictionary"
   ]
  },
  {
   "cell_type": "code",
   "execution_count": 38,
   "id": "eadd1761",
   "metadata": {},
   "outputs": [
    {
     "name": "stdout",
     "output_type": "stream",
     "text": [
      "1\n",
      "{'one': 'satu', 'two': 2, 'three': 3}\n"
     ]
    }
   ],
   "source": [
    "numbers = {'one':1, 'two':2, 'three':3}\n",
    "\n",
    "print(numbers['one'])\n",
    "\n",
    "numbers['one'] = 'satu'\n",
    "print(numbers)"
   ]
  },
  {
   "cell_type": "code",
   "execution_count": 39,
   "id": "dfd9e261",
   "metadata": {},
   "outputs": [
    {
     "name": "stdout",
     "output_type": "stream",
     "text": [
      "one = satu\n",
      "two = 2\n",
      "three = 3\n"
     ]
    }
   ],
   "source": [
    "for k in numbers:\n",
    "    print(\"{} = {}\".format(k, numbers[k]))"
   ]
  },
  {
   "cell_type": "code",
   "execution_count": 40,
   "id": "847ef0ef",
   "metadata": {},
   "outputs": [
    {
     "name": "stdout",
     "output_type": "stream",
     "text": [
      "satu\n",
      "2\n",
      "3\n"
     ]
    }
   ],
   "source": [
    "for k in numbers.values():\n",
    "    print(\"{}\".format(k))"
   ]
  },
  {
   "cell_type": "code",
   "execution_count": 41,
   "id": "45ab13a7",
   "metadata": {},
   "outputs": [
    {
     "name": "stdout",
     "output_type": "stream",
     "text": [
      "one = satu\n",
      "two = 2\n",
      "three = 3\n"
     ]
    }
   ],
   "source": [
    "for k, v in numbers.items():\n",
    "    print(\"{} = {}\".format(k, v))"
   ]
  },
  {
   "cell_type": "code",
   "execution_count": 42,
   "id": "8f9c3941",
   "metadata": {},
   "outputs": [
    {
     "data": {
      "text/plain": [
       "True"
      ]
     },
     "execution_count": 42,
     "metadata": {},
     "output_type": "execute_result"
    }
   ],
   "source": [
    "'one' in numbers"
   ]
  },
  {
   "cell_type": "code",
   "execution_count": 44,
   "id": "e9f95af5",
   "metadata": {},
   "outputs": [
    {
     "data": {
      "text/plain": [
       "{'one': 1, 'two': 2, 'three': 3, 'four': 10}"
      ]
     },
     "execution_count": 44,
     "metadata": {},
     "output_type": "execute_result"
    }
   ],
   "source": [
    "numbers = {'one':1, 'two':2, 'three':3}\n",
    "numbers['four'] = 10\n",
    "\n",
    "numbers"
   ]
  },
  {
   "cell_type": "code",
   "execution_count": 46,
   "id": "dedd5698",
   "metadata": {},
   "outputs": [
    {
     "data": {
      "text/plain": [
       "{'one': 1, 'two': 5, 'three': 3, 'four': 10}"
      ]
     },
     "execution_count": 46,
     "metadata": {},
     "output_type": "execute_result"
    }
   ],
   "source": [
    "numbers1 = {'two':5}\n",
    "numbers.update(numbers1)\n",
    "\n",
    "numbers"
   ]
  },
  {
   "cell_type": "code",
   "execution_count": 47,
   "id": "cf50cdf8",
   "metadata": {},
   "outputs": [
    {
     "name": "stdout",
     "output_type": "stream",
     "text": [
      "{'four': 10, 'three': 3, 'two': 5}\n"
     ]
    }
   ],
   "source": [
    "numbers = {'four': 10, 'one': 1, 'three': 3, 'two': 5}\n",
    "numbers.pop('one')\n",
    "print(numbers)"
   ]
  },
  {
   "cell_type": "code",
   "execution_count": 48,
   "id": "c0795f8c",
   "metadata": {},
   "outputs": [
    {
     "name": "stdout",
     "output_type": "stream",
     "text": [
      "{}\n"
     ]
    }
   ],
   "source": [
    "numbers.clear()\n",
    "print(numbers)"
   ]
  },
  {
   "cell_type": "code",
   "execution_count": 49,
   "id": "d824f442",
   "metadata": {},
   "outputs": [
    {
     "name": "stdout",
     "output_type": "stream",
     "text": [
      "{'three': 3, 'two': 5}\n"
     ]
    }
   ],
   "source": [
    "numbers = {'four': 10, 'three': 3, 'two': 5}\n",
    "del numbers['four']\n",
    "print(numbers)"
   ]
  },
  {
   "cell_type": "code",
   "execution_count": 50,
   "id": "550bc3f4",
   "metadata": {},
   "outputs": [
    {
     "ename": "NameError",
     "evalue": "name 'numbers' is not defined",
     "output_type": "error",
     "traceback": [
      "\u001b[1;31m---------------------------------------------------------------------------\u001b[0m",
      "\u001b[1;31mNameError\u001b[0m                                 Traceback (most recent call last)",
      "\u001b[1;32m~\\AppData\\Local\\Temp/ipykernel_6364/904645480.py\u001b[0m in \u001b[0;36m<module>\u001b[1;34m\u001b[0m\n\u001b[0;32m      1\u001b[0m \u001b[1;32mdel\u001b[0m \u001b[0mnumbers\u001b[0m\u001b[1;33m\u001b[0m\u001b[1;33m\u001b[0m\u001b[0m\n\u001b[1;32m----> 2\u001b[1;33m \u001b[0mprint\u001b[0m\u001b[1;33m(\u001b[0m\u001b[0mnumbers\u001b[0m\u001b[1;33m)\u001b[0m\u001b[1;33m\u001b[0m\u001b[1;33m\u001b[0m\u001b[0m\n\u001b[0m",
      "\u001b[1;31mNameError\u001b[0m: name 'numbers' is not defined"
     ]
    }
   ],
   "source": [
    "del numbers\n",
    "print(numbers)"
   ]
  },
  {
   "cell_type": "code",
   "execution_count": null,
   "id": "b7724ad1",
   "metadata": {},
   "outputs": [],
   "source": []
  },
  {
   "cell_type": "code",
   "execution_count": null,
   "id": "95ad4d9e",
   "metadata": {},
   "outputs": [],
   "source": []
  },
  {
   "cell_type": "code",
   "execution_count": null,
   "id": "fbd556f7",
   "metadata": {},
   "outputs": [],
   "source": []
  },
  {
   "cell_type": "code",
   "execution_count": null,
   "id": "3b8b9aa1",
   "metadata": {},
   "outputs": [],
   "source": []
  }
 ],
 "metadata": {
  "kernelspec": {
   "display_name": "Python 3 (ipykernel)",
   "language": "python",
   "name": "python3"
  },
  "language_info": {
   "codemirror_mode": {
    "name": "ipython",
    "version": 3
   },
   "file_extension": ".py",
   "mimetype": "text/x-python",
   "name": "python",
   "nbconvert_exporter": "python",
   "pygments_lexer": "ipython3",
   "version": "3.9.6"
  }
 },
 "nbformat": 4,
 "nbformat_minor": 5
}
