{
 "cells": [
  {
   "cell_type": "code",
   "execution_count": 5,
   "id": "eb72c0cb",
   "metadata": {},
   "outputs": [
    {
     "name": "stdout",
     "output_type": "stream",
     "text": [
      "Hello i am Eric i am 20 years old\n",
      "Hello i am  Eric  i am  20  years old\n",
      "Hello i am Eric i am 20 years old\n",
      "Hello i am Eric i am 20 years old\n",
      "Hello i am Eric i am 20 years old\n"
     ]
    }
   ],
   "source": [
    "name = 'Eric'\n",
    "\n",
    "age = 20\n",
    "\n",
    "print('Hello i am ' + name + ' i am ' + str(age) + ' years old')\n",
    "print('Hello i am ', name, ' i am ' ,age, ' years old')\n",
    "# Old Style\n",
    "print('Hello i am %s i am %d years old' % (name, age))\n",
    "\n",
    "# 'New Style' string formatting\n",
    "print('Hello i am {0} i am {1} years old'.format(name, age))\n",
    "\n",
    "# String interpolation\n",
    "print(f'Hello i am {name} i am {age} years old')"
   ]
  },
  {
   "cell_type": "code",
   "execution_count": 8,
   "id": "87b7844d",
   "metadata": {},
   "outputs": [
    {
     "name": "stdout",
     "output_type": "stream",
     "text": [
      "14\n",
      "6\n"
     ]
    }
   ],
   "source": [
    "A = 12\n",
    "\n",
    "B = 2\n",
    "\n",
    "C = A + B\n",
    "\n",
    "D = int(A / B) #D = A / B akan menghasilkan tipe float\n",
    "\n",
    "print(C)\n",
    "\n",
    "print(D)"
   ]
  },
  {
   "cell_type": "code",
   "execution_count": 9,
   "id": "c5ce73f8",
   "metadata": {},
   "outputs": [
    {
     "name": "stdout",
     "output_type": "stream",
     "text": [
      "100000\n"
     ]
    },
    {
     "data": {
      "text/plain": [
       "str"
      ]
     },
     "execution_count": 9,
     "metadata": {},
     "output_type": "execute_result"
    }
   ],
   "source": [
    "number = 100000\n",
    "number = str(number)\n",
    "print(number)\n",
    "type(number)"
   ]
  }
 ],
 "metadata": {
  "kernelspec": {
   "display_name": "Python 3 (ipykernel)",
   "language": "python",
   "name": "python3"
  },
  "language_info": {
   "codemirror_mode": {
    "name": "ipython",
    "version": 3
   },
   "file_extension": ".py",
   "mimetype": "text/x-python",
   "name": "python",
   "nbconvert_exporter": "python",
   "pygments_lexer": "ipython3",
   "version": "3.9.6"
  }
 },
 "nbformat": 4,
 "nbformat_minor": 5
}
