{
 "cells": [
  {
   "cell_type": "markdown",
   "id": "e683524d",
   "metadata": {},
   "source": [
    "## Mendefinisikan Fungsi"
   ]
  },
  {
   "cell_type": "code",
   "execution_count": 1,
   "id": "f01c42e9",
   "metadata": {},
   "outputs": [],
   "source": [
    "def least_difference(a, b, c):\n",
    "    diff1 = abs(a - b)\n",
    "    diff2 = abs(b - c)\n",
    "    diff3 = abs(a - c)\n",
    "    return min(diff1, diff2, diff3)"
   ]
  },
  {
   "cell_type": "code",
   "execution_count": 2,
   "id": "e08f4946",
   "metadata": {},
   "outputs": [],
   "source": [
    "def greet():\n",
    "    print('Hello, Colion')\n",
    "\n",
    "def greet(who=\"Colin\"):\n",
    "    print(\"Hello,\", who)"
   ]
  },
  {
   "cell_type": "code",
   "execution_count": 3,
   "id": "056507ac",
   "metadata": {},
   "outputs": [
    {
     "name": "stdout",
     "output_type": "stream",
     "text": [
      "Hello, Colin\n"
     ]
    }
   ],
   "source": [
    "greet()"
   ]
  },
  {
   "cell_type": "markdown",
   "id": "1d5c5e8a",
   "metadata": {},
   "source": [
    "## Fungsi Lambda"
   ]
  },
  {
   "cell_type": "code",
   "execution_count": 4,
   "id": "2dac7b03",
   "metadata": {},
   "outputs": [
    {
     "data": {
      "text/plain": [
       "27"
      ]
     },
     "execution_count": 4,
     "metadata": {},
     "output_type": "execute_result"
    }
   ],
   "source": [
    "f = lambda x : x**x\n",
    "f(3)"
   ]
  },
  {
   "cell_type": "code",
   "execution_count": 5,
   "id": "cc4d2e32",
   "metadata": {},
   "outputs": [
    {
     "data": {
      "text/plain": [
       "6"
      ]
     },
     "execution_count": 5,
     "metadata": {},
     "output_type": "execute_result"
    }
   ],
   "source": [
    "f = lambda a,b : a+b\n",
    "f(2,4)"
   ]
  },
  {
   "cell_type": "markdown",
   "id": "bb992853",
   "metadata": {},
   "source": [
    "## Method"
   ]
  },
  {
   "cell_type": "code",
   "execution_count": 6,
   "id": "21cea7a9",
   "metadata": {},
   "outputs": [
    {
     "name": "stdout",
     "output_type": "stream",
     "text": [
      "HURUF_KECIL\n"
     ]
    }
   ],
   "source": [
    "huruf_kecil = 'huruf_kecil'\n",
    "print(huruf_kecil.upper())"
   ]
  },
  {
   "cell_type": "code",
   "execution_count": 7,
   "id": "7f934ab2",
   "metadata": {},
   "outputs": [
    {
     "name": "stdout",
     "output_type": "stream",
     "text": [
      "2\n"
     ]
    }
   ],
   "source": [
    "keluarga_ucup = ['mamah', 'papah', 'ucup', 'adek ucup', 'kaka ucup']\n",
    "print(keluarga_ucup.index('ucup'))"
   ]
  },
  {
   "cell_type": "code",
   "execution_count": 8,
   "id": "9197a5cd",
   "metadata": {},
   "outputs": [
    {
     "name": "stdout",
     "output_type": "stream",
     "text": [
      "Circumference: 2.701769682087222\n",
      "Area: 0.5808804816487527\n"
     ]
    }
   ],
   "source": [
    "# Definition of radius\n",
    "r = 0.43\n",
    "\n",
    "# Import the math package\n",
    "import math\n",
    "pi=math.pi \n",
    "\n",
    "# Calculate C\n",
    "C = 2*pi*r \n",
    "\n",
    "# Calculate A\n",
    "A = pi*r*r \n",
    "\n",
    "# Build printout\n",
    "print(\"Circumference: \" + str(C))\n",
    "Circumference: 2.701769682087222\n",
    "\n",
    "print(\"Area: \" + str(A))\n",
    "Area: 0.5808804816487527"
   ]
  }
 ],
 "metadata": {
  "kernelspec": {
   "display_name": "Python 3 (ipykernel)",
   "language": "python",
   "name": "python3"
  },
  "language_info": {
   "codemirror_mode": {
    "name": "ipython",
    "version": 3
   },
   "file_extension": ".py",
   "mimetype": "text/x-python",
   "name": "python",
   "nbconvert_exporter": "python",
   "pygments_lexer": "ipython3",
   "version": "3.9.6"
  }
 },
 "nbformat": 4,
 "nbformat_minor": 5
}
